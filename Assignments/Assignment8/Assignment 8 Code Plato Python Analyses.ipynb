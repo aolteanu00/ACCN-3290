{
 "cells": [
  {
   "cell_type": "markdown",
   "metadata": {},
   "source": [
    "## Sample Python Code for Plato Renovation Inc.\n",
    "- Part A of this code illustrates how to estimate the historical collection rates across different types of accounts using data from 2010 to 2019. Part B of this codes calculates the total receivables across different types of accounts for the transactions in Q1 2020.\n",
    "- Before running the code, you need to download two datasets (i.e., *Plato_Dataset_10_19.csv* and *Plato_Dataset_2020Q1.csv*) and save them in your local folder.\n",
    "- **Your task** is to understand the coding procedures and then pick the right numbers from the outputs to fill in the blanks for following analyses in the doc file.\n",
    "- Tip: Learning from existing programs is a very important skill for programmers. What's even more important is to be able to adapt those programs for your own particular use. If you want to sharpen your programming skills, you can try to write your own program to address the case questions after understanding this one. "
   ]
  },
  {
   "cell_type": "markdown",
   "metadata": {},
   "source": [
    "### Part A: Estimating detailed collection rates usng historical transaction data \n",
    "Dataset: Plato_Dataset_10_19.csv"
   ]
  },
  {
   "cell_type": "markdown",
   "metadata": {},
   "source": [
    "---\n",
    "**Import the dataset**\n",
    "- The new datetime module supplies classes for manipulating dates and times."
   ]
  },
  {
   "cell_type": "code",
   "execution_count": 4,
   "metadata": {},
   "outputs": [],
   "source": [
    "import datetime as dt\n",
    "import pandas as pd\n",
    "pd.set_option('display.float_format', lambda x: '%.3f' % x)\n",
    "df = pd.read_csv('Plato_Dataset_10_19.csv', parse_dates = ['bus_date', 'payment_date', 'qend'])"
   ]
  },
  {
   "cell_type": "markdown",
   "metadata": {},
   "source": [
    "---\n",
    "**Keep transactions with outstanding accounts receivables by each quarter end**"
   ]
  },
  {
   "cell_type": "markdown",
   "metadata": {},
   "source": [
    "<font color='red'>***Question 1:***</font> *Which transactions are kept in the new dataset? Why do those transactiosn represent outstanding accounts receivables? You might have to search online the isnull( ) function.*"
   ]
  },
  {
   "cell_type": "markdown",
   "metadata": {},
   "source": [
    "Your answer: The transactions that are kept are ones without a due date (null) and the ones with a due date after the quarter's end. These are included because the ones at the quarter's end are supposed to be collected as such while the others will likely still be outstanding after this quarter."
   ]
  },
  {
   "cell_type": "code",
   "execution_count": 6,
   "metadata": {},
   "outputs": [
    {
     "data": {
      "text/html": [
       "<div>\n",
       "<style scoped>\n",
       "    .dataframe tbody tr th:only-of-type {\n",
       "        vertical-align: middle;\n",
       "    }\n",
       "\n",
       "    .dataframe tbody tr th {\n",
       "        vertical-align: top;\n",
       "    }\n",
       "\n",
       "    .dataframe thead th {\n",
       "        text-align: right;\n",
       "    }\n",
       "</style>\n",
       "<table border=\"1\" class=\"dataframe\">\n",
       "  <thead>\n",
       "    <tr style=\"text-align: right;\">\n",
       "      <th></th>\n",
       "      <th>bus_date</th>\n",
       "      <th>district</th>\n",
       "      <th>sales</th>\n",
       "      <th>upfront</th>\n",
       "      <th>payment_date</th>\n",
       "      <th>qend</th>\n",
       "    </tr>\n",
       "  </thead>\n",
       "  <tbody>\n",
       "    <tr>\n",
       "      <th>15</th>\n",
       "      <td>2010-01-05</td>\n",
       "      <td>Tourism</td>\n",
       "      <td>13920</td>\n",
       "      <td>2700</td>\n",
       "      <td>NaT</td>\n",
       "      <td>2010-03-31</td>\n",
       "    </tr>\n",
       "    <tr>\n",
       "      <th>18</th>\n",
       "      <td>2010-01-05</td>\n",
       "      <td>Residence</td>\n",
       "      <td>8200</td>\n",
       "      <td>1600</td>\n",
       "      <td>NaT</td>\n",
       "      <td>2010-03-31</td>\n",
       "    </tr>\n",
       "    <tr>\n",
       "      <th>20</th>\n",
       "      <td>2010-01-06</td>\n",
       "      <td>Tourism</td>\n",
       "      <td>8640</td>\n",
       "      <td>1700</td>\n",
       "      <td>2010-04-01</td>\n",
       "      <td>2010-03-31</td>\n",
       "    </tr>\n",
       "    <tr>\n",
       "      <th>23</th>\n",
       "      <td>2010-01-07</td>\n",
       "      <td>Residence</td>\n",
       "      <td>10000</td>\n",
       "      <td>2000</td>\n",
       "      <td>NaT</td>\n",
       "      <td>2010-03-31</td>\n",
       "    </tr>\n",
       "    <tr>\n",
       "      <th>24</th>\n",
       "      <td>2010-01-07</td>\n",
       "      <td>Residence</td>\n",
       "      <td>11000</td>\n",
       "      <td>2200</td>\n",
       "      <td>2010-04-16</td>\n",
       "      <td>2010-03-31</td>\n",
       "    </tr>\n",
       "    <tr>\n",
       "      <th>...</th>\n",
       "      <td>...</td>\n",
       "      <td>...</td>\n",
       "      <td>...</td>\n",
       "      <td>...</td>\n",
       "      <td>...</td>\n",
       "      <td>...</td>\n",
       "    </tr>\n",
       "    <tr>\n",
       "      <th>20643</th>\n",
       "      <td>2019-12-31</td>\n",
       "      <td>Business</td>\n",
       "      <td>10140</td>\n",
       "      <td>2000</td>\n",
       "      <td>2020-01-26</td>\n",
       "      <td>2019-12-31</td>\n",
       "    </tr>\n",
       "    <tr>\n",
       "      <th>20644</th>\n",
       "      <td>2019-12-31</td>\n",
       "      <td>Tourism</td>\n",
       "      <td>13459</td>\n",
       "      <td>2600</td>\n",
       "      <td>2020-01-14</td>\n",
       "      <td>2019-12-31</td>\n",
       "    </tr>\n",
       "    <tr>\n",
       "      <th>20645</th>\n",
       "      <td>2019-12-31</td>\n",
       "      <td>Residence</td>\n",
       "      <td>4160</td>\n",
       "      <td>800</td>\n",
       "      <td>2020-02-09</td>\n",
       "      <td>2019-12-31</td>\n",
       "    </tr>\n",
       "    <tr>\n",
       "      <th>20646</th>\n",
       "      <td>2019-12-31</td>\n",
       "      <td>Residence</td>\n",
       "      <td>12480</td>\n",
       "      <td>2400</td>\n",
       "      <td>2020-01-11</td>\n",
       "      <td>2019-12-31</td>\n",
       "    </tr>\n",
       "    <tr>\n",
       "      <th>20647</th>\n",
       "      <td>2019-12-31</td>\n",
       "      <td>Residence</td>\n",
       "      <td>2080</td>\n",
       "      <td>400</td>\n",
       "      <td>2020-02-04</td>\n",
       "      <td>2019-12-31</td>\n",
       "    </tr>\n",
       "  </tbody>\n",
       "</table>\n",
       "<p>8427 rows × 6 columns</p>\n",
       "</div>"
      ],
      "text/plain": [
       "        bus_date   district  sales  upfront payment_date       qend\n",
       "15    2010-01-05    Tourism  13920     2700          NaT 2010-03-31\n",
       "18    2010-01-05  Residence   8200     1600          NaT 2010-03-31\n",
       "20    2010-01-06    Tourism   8640     1700   2010-04-01 2010-03-31\n",
       "23    2010-01-07  Residence  10000     2000          NaT 2010-03-31\n",
       "24    2010-01-07  Residence  11000     2200   2010-04-16 2010-03-31\n",
       "...          ...        ...    ...      ...          ...        ...\n",
       "20643 2019-12-31   Business  10140     2000   2020-01-26 2019-12-31\n",
       "20644 2019-12-31    Tourism  13459     2600   2020-01-14 2019-12-31\n",
       "20645 2019-12-31  Residence   4160      800   2020-02-09 2019-12-31\n",
       "20646 2019-12-31  Residence  12480     2400   2020-01-11 2019-12-31\n",
       "20647 2019-12-31  Residence   2080      400   2020-02-04 2019-12-31\n",
       "\n",
       "[8427 rows x 6 columns]"
      ]
     },
     "execution_count": 6,
     "metadata": {},
     "output_type": "execute_result"
    }
   ],
   "source": [
    "df = df[(df['payment_date'].isnull()) | (df['payment_date'] > df['qend'])]\n",
    "df"
   ]
  },
  {
   "cell_type": "markdown",
   "metadata": {},
   "source": [
    "---\n",
    "**Create necessary variables**"
   ]
  },
  {
   "cell_type": "code",
   "execution_count": 14,
   "metadata": {},
   "outputs": [],
   "source": [
    "df['age'] = (df['qend'] - df['bus_date']).dt.days + 1"
   ]
  },
  {
   "cell_type": "markdown",
   "metadata": {},
   "source": [
    "<font color='red'>***Question 2:***</font> *Can you explain what the below code does? You might have to search online the pandas.cut() function.*"
   ]
  },
  {
   "cell_type": "markdown",
   "metadata": {},
   "source": [
    "Your answer: This is finding out how many days have elapsed since you paid and there is one day added in case someone pays the same day they are billed."
   ]
  },
  {
   "cell_type": "code",
   "execution_count": 15,
   "metadata": {},
   "outputs": [],
   "source": [
    "#The upper limit of age is 92. For simplicity, we still assign these transactions into (60, 90)\n",
    "df['due_age'] = pd.cut(df['age'], bins=[0, 30, 60, 92], labels=['(0, 30)', '(30, 60)', '(60, 90)'])"
   ]
  },
  {
   "cell_type": "code",
   "execution_count": 16,
   "metadata": {},
   "outputs": [],
   "source": [
    "df['year'] = pd.DatetimeIndex(df['bus_date']).year"
   ]
  },
  {
   "cell_type": "code",
   "execution_count": 17,
   "metadata": {},
   "outputs": [],
   "source": [
    "df['quarter'] = pd.DatetimeIndex(df['bus_date']).quarter"
   ]
  },
  {
   "cell_type": "markdown",
   "metadata": {},
   "source": [
    "<font color='red'>***Question 3:***</font> *Can you explain what the below code does? You might have to search online both isin( ) and astype( ) function. What does the new variable represent?*"
   ]
  },
  {
   "cell_type": "markdown",
   "metadata": {},
   "source": [
    "Your answer: This is trying to find out if they were operating in a year that had the bridge close. This new variable represetns  abinary condition with 0 being it was not a birdge year and 1 being a birdge year."
   ]
  },
  {
   "cell_type": "code",
   "execution_count": 18,
   "metadata": {},
   "outputs": [],
   "source": [
    "df['bridge_year'] = df['year'].isin([2010,2015]).astype(int)"
   ]
  },
  {
   "cell_type": "markdown",
   "metadata": {},
   "source": [
    "<font color='red'>***Question 4:***</font> *Can you explain what the below code does? What does the new variable represent?*"
   ]
  },
  {
   "cell_type": "markdown",
   "metadata": {},
   "source": [
    "Your answer: This is chekcing to see if payment is received. If it was the payment date would return a 0 becuase it would not be null and the 1 - 0 would return a 1 or TRUE meaning a payment has been received."
   ]
  },
  {
   "cell_type": "code",
   "execution_count": 19,
   "metadata": {},
   "outputs": [],
   "source": [
    "df['payment_received'] = 1 - df['payment_date'].isnull().astype(int)"
   ]
  },
  {
   "cell_type": "markdown",
   "metadata": {},
   "source": [
    "---\n",
    "**Estimate collection rates across different dimensions**"
   ]
  },
  {
   "cell_type": "markdown",
   "metadata": {},
   "source": [
    "<font color='red'>***Question 5:***</font> *Can you explain what the below code does? You might have to search online about the use of groupby( ) function.*"
   ]
  },
  {
   "cell_type": "markdown",
   "metadata": {},
   "source": [
    "Your answer: Its making groups based on the bins and different values we have created and matches the values we are looking for by filtering them. For the first we have the payment received % filtered by the age bins we have. You can also have multiple subgroups like on the last line of this section splitting up each of them."
   ]
  },
  {
   "cell_type": "code",
   "execution_count": 20,
   "metadata": {},
   "outputs": [
    {
     "data": {
      "text/plain": [
       "due_age\n",
       "(0, 30)    0.942\n",
       "(30, 60)   0.881\n",
       "(60, 90)   0.671\n",
       "Name: payment_received, dtype: float64"
      ]
     },
     "execution_count": 20,
     "metadata": {},
     "output_type": "execute_result"
    }
   ],
   "source": [
    "df.groupby('due_age')['payment_received'].mean()"
   ]
  },
  {
   "cell_type": "code",
   "execution_count": 21,
   "metadata": {},
   "outputs": [
    {
     "data": {
      "text/plain": [
       "district\n",
       "Business    0.913\n",
       "Residence   0.890\n",
       "Tourism     0.880\n",
       "Name: payment_received, dtype: float64"
      ]
     },
     "execution_count": 21,
     "metadata": {},
     "output_type": "execute_result"
    }
   ],
   "source": [
    "df.groupby('district')['payment_received'].mean()"
   ]
  },
  {
   "cell_type": "code",
   "execution_count": 22,
   "metadata": {},
   "outputs": [
    {
     "data": {
      "text/plain": [
       "bridge_year\n",
       "0   0.912\n",
       "1   0.833\n",
       "Name: payment_received, dtype: float64"
      ]
     },
     "execution_count": 22,
     "metadata": {},
     "output_type": "execute_result"
    }
   ],
   "source": [
    "df.groupby('bridge_year')['payment_received'].mean()"
   ]
  },
  {
   "cell_type": "code",
   "execution_count": 23,
   "metadata": {},
   "outputs": [
    {
     "data": {
      "text/plain": [
       "quarter\n",
       "1   0.895\n",
       "2   0.901\n",
       "3   0.892\n",
       "4   0.891\n",
       "Name: payment_received, dtype: float64"
      ]
     },
     "execution_count": 23,
     "metadata": {},
     "output_type": "execute_result"
    }
   ],
   "source": [
    "df.groupby('quarter')['payment_received'].mean()"
   ]
  },
  {
   "cell_type": "code",
   "execution_count": 24,
   "metadata": {},
   "outputs": [
    {
     "data": {
      "text/plain": [
       "bridge_year  due_age   district \n",
       "0            (0, 30)   Business    0.953\n",
       "                       Residence   0.945\n",
       "                       Tourism     0.962\n",
       "             (30, 60)  Business    0.895\n",
       "                       Residence   0.880\n",
       "                       Tourism     0.931\n",
       "             (60, 90)  Business    0.716\n",
       "                       Residence   0.623\n",
       "                       Tourism     0.742\n",
       "1            (0, 30)   Business    0.957\n",
       "                       Residence   0.912\n",
       "                       Tourism     0.826\n",
       "             (30, 60)  Business    0.899\n",
       "                       Residence   0.876\n",
       "                       Tourism     0.712\n",
       "             (60, 90)  Business    0.794\n",
       "                       Residence   0.735\n",
       "                       Tourism     0.493\n",
       "Name: payment_received, dtype: float64"
      ]
     },
     "execution_count": 24,
     "metadata": {},
     "output_type": "execute_result"
    }
   ],
   "source": [
    "df.groupby(['bridge_year','due_age', 'district'])['payment_received'].mean()"
   ]
  },
  {
   "cell_type": "markdown",
   "metadata": {},
   "source": [
    "---\n",
    "### Part B: Calculating total accounts receivables for 2020 Q1\n",
    "Dataset: Dataset_2020Q1 for Data Analytics.csv"
   ]
  },
  {
   "cell_type": "code",
   "execution_count": 7,
   "metadata": {},
   "outputs": [],
   "source": [
    "df20 = pd.read_csv('Plato_Dataset_2020Q1.csv', parse_dates = ['bus_date', 'payment_date', 'qend'])"
   ]
  },
  {
   "cell_type": "code",
   "execution_count": 8,
   "metadata": {},
   "outputs": [],
   "source": [
    "df20 = df20[(df20['payment_date'].isnull()) | (df20['payment_date'] > df20['qend'])]"
   ]
  },
  {
   "cell_type": "code",
   "execution_count": 9,
   "metadata": {},
   "outputs": [],
   "source": [
    "df20['receivables'] = df20['sales'] - df20['upfront']"
   ]
  },
  {
   "cell_type": "code",
   "execution_count": 10,
   "metadata": {},
   "outputs": [],
   "source": [
    "df20['age'] = (df20['qend'] - df20['bus_date']).dt.days + 1"
   ]
  },
  {
   "cell_type": "code",
   "execution_count": 11,
   "metadata": {},
   "outputs": [],
   "source": [
    "df20['due_age'] = pd.cut(df20['age'], bins=[0, 30, 60, 92], labels=['(0, 30)', '(30, 60)', '(60, 90)'])"
   ]
  },
  {
   "cell_type": "markdown",
   "metadata": {},
   "source": [
    "**Calculate total accounts receivables across different dimensions**"
   ]
  },
  {
   "cell_type": "code",
   "execution_count": 12,
   "metadata": {},
   "outputs": [
    {
     "data": {
      "text/plain": [
       "1796501"
      ]
     },
     "execution_count": 12,
     "metadata": {},
     "output_type": "execute_result"
    }
   ],
   "source": [
    "df20['receivables'].sum()"
   ]
  },
  {
   "cell_type": "code",
   "execution_count": 13,
   "metadata": {},
   "outputs": [
    {
     "data": {
      "text/plain": [
       "district\n",
       "Business     394350\n",
       "Residence    630954\n",
       "Tourism      771197\n",
       "Name: receivables, dtype: int64"
      ]
     },
     "execution_count": 13,
     "metadata": {},
     "output_type": "execute_result"
    }
   ],
   "source": [
    "df20.groupby(['district'])['receivables'].sum()"
   ]
  },
  {
   "cell_type": "code",
   "execution_count": 14,
   "metadata": {},
   "outputs": [
    {
     "data": {
      "text/plain": [
       "due_age\n",
       "(0, 30)     1053488\n",
       "(30, 60)     505485\n",
       "(60, 90)     237528\n",
       "Name: receivables, dtype: int64"
      ]
     },
     "execution_count": 14,
     "metadata": {},
     "output_type": "execute_result"
    }
   ],
   "source": [
    "df20.groupby(['due_age'])['receivables'].sum()"
   ]
  },
  {
   "cell_type": "code",
   "execution_count": 17,
   "metadata": {},
   "outputs": [
    {
     "data": {
      "text/plain": [
       "due_age   district \n",
       "(0, 30)   Business     203729\n",
       "          Residence    361637\n",
       "          Tourism      488122\n",
       "(30, 60)  Business     144569\n",
       "          Residence    226102\n",
       "          Tourism      134814\n",
       "(60, 90)  Business      46052\n",
       "          Residence     43215\n",
       "          Tourism      148261\n",
       "Name: receivables, dtype: int64"
      ]
     },
     "execution_count": 17,
     "metadata": {},
     "output_type": "execute_result"
    }
   ],
   "source": [
    "df20.groupby(['due_age', 'district'])['receivables'].sum()"
   ]
  },
  {
   "cell_type": "markdown",
   "metadata": {},
   "source": [
    "**Calculating the total actual non-paid accounts (assuming we know this information by Q2 2020)**"
   ]
  },
  {
   "cell_type": "code",
   "execution_count": 18,
   "metadata": {},
   "outputs": [
    {
     "data": {
      "text/plain": [
       "383527"
      ]
     },
     "execution_count": 18,
     "metadata": {},
     "output_type": "execute_result"
    }
   ],
   "source": [
    "df20[df20['payment_date'].isnull()]['receivables'].sum()"
   ]
  },
  {
   "cell_type": "code",
   "execution_count": null,
   "metadata": {},
   "outputs": [],
   "source": []
  },
  {
   "cell_type": "code",
   "execution_count": null,
   "metadata": {},
   "outputs": [],
   "source": []
  },
  {
   "cell_type": "code",
   "execution_count": null,
   "metadata": {},
   "outputs": [],
   "source": []
  }
 ],
 "metadata": {
  "kernelspec": {
   "display_name": "Python 3",
   "language": "python",
   "name": "python3"
  },
  "language_info": {
   "codemirror_mode": {
    "name": "ipython",
    "version": 3
   },
   "file_extension": ".py",
   "mimetype": "text/x-python",
   "name": "python",
   "nbconvert_exporter": "python",
   "pygments_lexer": "ipython3",
   "version": "3.8.8"
  }
 },
 "nbformat": 4,
 "nbformat_minor": 2
}
