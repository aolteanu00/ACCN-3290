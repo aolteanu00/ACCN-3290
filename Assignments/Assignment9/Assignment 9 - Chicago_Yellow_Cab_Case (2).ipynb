{
 "cells": [
  {
   "cell_type": "markdown",
   "metadata": {},
   "source": [
    "----------\n",
    "# Cab Consulting Questions\n",
    "_______"
   ]
  },
  {
   "cell_type": "markdown",
   "metadata": {},
   "source": [
    "## Author Information\n",
    "Jessen Hobson, Ph.D. </br>\n",
    "Associate Professor of Accountancy </br> \n",
    "R.C. Evans Data Analytics Fellow </br>\n",
    "University of Illinois at Urbana-Champaign\n",
    "\n",
    "\n",
    "### Adapted By\n",
    "Jake Krupa, Ph.D, CPA </br>\n",
    "Assitant Professor of Accounting </br> \n",
    "AB Freeman School of Business </br>\n",
    "Tulane University"
   ]
  },
  {
   "cell_type": "markdown",
   "metadata": {},
   "source": [
    "## Learning Objectives\n",
    "* Retrieve data via API\n",
    "* Store and access data via Pandas and CSV\n",
    "* Clean data in Pandas\n",
    "* Descriptive analytics: \n",
    "    * grouping data\n",
    "    * visualization via box plots, scatter plots, histograms, and heat maps\n",
    "* Predictive analytics using regression\n",
    "* Story telling from a business analytics point of view\n"
   ]
  },
  {
   "cell_type": "markdown",
   "metadata": {},
   "source": [
    "## Case Background\n",
    "Yellow Cab Chicago has hired your small accounting and consulting firm to help them shave costs and increase revenues. Like many traditional cab companies, Yellow Cab is feeling significant pressure from ride-hailing companies Yellow Cab Chicago is a hypothetical cab sharing company that wants to reduce costs and increase revenues. Like many traditional cab companies, Yellow Cab is feeling significant pressure from ride-hailing companies like Lyft and Uber. Your assignment is to use an authentic, existing data set to better understand the situation Yellow Cab is facing and to investigate potential revenue opportunities.\n",
    " \n",
    "-------"
   ]
  },
  {
   "cell_type": "markdown",
   "metadata": {},
   "source": [
    "## Load Relevant Packages and Dependencies\n",
    "\n",
    "-------"
   ]
  },
  {
   "cell_type": "markdown",
   "metadata": {},
   "source": [
    "Set up the environment, load packages and dependencies."
   ]
  },
  {
   "cell_type": "code",
   "execution_count": 40,
   "metadata": {},
   "outputs": [],
   "source": [
    "# database tool\n",
    "import pandas as pd \n",
    "import numpy as np \n",
    "# for use with API to get data\n",
    "# if you get an error that sodapy is not installed, \n",
    "# use this code to install in Jupyter: !pip install sodapy\n",
    "#from sodapy import Socrata  this wasn't working\n",
    "# You can also download the data from Canvas\n",
    "\n",
    "# Also, import the linear regression library\n",
    "import statsmodels.formula.api as smf\n",
    "\n",
    "# to show graphs inline\n",
    "%matplotlib inline \n",
    "\n",
    "# disable an unneeded warning\n",
    "pd.options.mode.chained_assignment = None  # default='warn'"
   ]
  },
  {
   "cell_type": "markdown",
   "metadata": {},
   "source": [
    "## Load Data and Save Data\n",
    "There are two methods to obtain data for this case. Both methods use data from data.cityofchicago.org.\n",
    "\n",
    "------"
   ]
  },
  {
   "cell_type": "markdown",
   "metadata": {},
   "source": [
    "### Retrieve Data, Method 1\n",
    "Load through data.cityofchicago.org using their API. An application token is given to you. E.g., https://digital.cityofchicago.org/index.php/chicago-taxi-data-released/\n",
    "\n",
    "Adapt this one line of code below to download 2,000,000 rows of data from 2015:\n",
    "`results = client.get(\"r2u4-wwk3\", limit=200)`"
   ]
  },
  {
   "cell_type": "code",
   "execution_count": null,
   "metadata": {},
   "outputs": [],
   "source": [
    "# App token - something needed for multiple requests from an API\n",
    "MyAppToken=\"J1pdc11pinLHhRMnrhgItLRqO\"\n",
    "client = Socrata(\"data.cityofchicago.org/\",\n",
    "                  MyAppToken,\n",
    "                  username=\"jkrupa@tulane.edu\",\n",
    "                  password=\"accn7290-3290SP2021\")\n",
    "\n",
    "# returned as JSON from API / converted to Python list of\n",
    "# dictionaries by sodapy.\n",
    "# Getting a subset of 2,000,000\n",
    "# r2u4-wwk3 is dataset for 2020\n",
    "# 9arg-bn2i is dataset for 2015\n",
    "# wrvz-psew is for all\n",
    "# results = client.get(\"r2u4-wwk3\", limit=200)\n",
    "# ADAPT THIS LINE OF CODE \n",
    "results = client.get(\"9arg-bn2i\", limit=2000000)\n",
    "\n",
    "\n",
    "# Convert to pandas DataFrame\n",
    "df = pd.DataFrame.from_records(results)\n",
    "df.shape"
   ]
  },
  {
   "cell_type": "markdown",
   "metadata": {},
   "source": [
    "Save data as a CSV file so that you can save and return to your work without having to use an application token in the API."
   ]
  },
  {
   "cell_type": "code",
   "execution_count": 4,
   "metadata": {},
   "outputs": [],
   "source": [
    "# Export file for later use\n",
    "file = 'cab_data2015.csv' \n",
    "df.to_csv(file, index = False)"
   ]
  },
  {
   "cell_type": "code",
   "execution_count": 25,
   "metadata": {},
   "outputs": [],
   "source": [
    "# Load data for use\n",
    "df2015=pd.read_csv(\"cab_data2015.csv\")"
   ]
  },
  {
   "cell_type": "markdown",
   "metadata": {},
   "source": [
    "## 0. Look at the Data\n",
    "--------"
   ]
  },
  {
   "cell_type": "markdown",
   "metadata": {},
   "source": [
    "Question: take a look at 10 random rows using `.sample()` of the DataFrame to get a sense of what you have downloaded."
   ]
  },
  {
   "cell_type": "code",
   "execution_count": 26,
   "metadata": {},
   "outputs": [
    {
     "data": {
      "text/html": [
       "<div>\n",
       "<style scoped>\n",
       "    .dataframe tbody tr th:only-of-type {\n",
       "        vertical-align: middle;\n",
       "    }\n",
       "\n",
       "    .dataframe tbody tr th {\n",
       "        vertical-align: top;\n",
       "    }\n",
       "\n",
       "    .dataframe thead th {\n",
       "        text-align: right;\n",
       "    }\n",
       "</style>\n",
       "<table border=\"1\" class=\"dataframe\">\n",
       "  <thead>\n",
       "    <tr style=\"text-align: right;\">\n",
       "      <th></th>\n",
       "      <th>trip_id</th>\n",
       "      <th>taxi_id</th>\n",
       "      <th>trip_start_timestamp</th>\n",
       "      <th>trip_end_timestamp</th>\n",
       "      <th>trip_seconds</th>\n",
       "      <th>trip_miles</th>\n",
       "      <th>fare</th>\n",
       "      <th>tips</th>\n",
       "      <th>extras</th>\n",
       "      <th>trip_total</th>\n",
       "      <th>...</th>\n",
       "      <th>dropoff_census_tract</th>\n",
       "      <th>pickup_community_area</th>\n",
       "      <th>dropoff_community_area</th>\n",
       "      <th>pickup_centroid_latitude</th>\n",
       "      <th>pickup_centroid_longitude</th>\n",
       "      <th>pickup_centroid_location</th>\n",
       "      <th>dropoff_centroid_latitude</th>\n",
       "      <th>dropoff_centroid_longitude</th>\n",
       "      <th>dropoff_centroid_location</th>\n",
       "      <th>tolls</th>\n",
       "    </tr>\n",
       "  </thead>\n",
       "  <tbody>\n",
       "    <tr>\n",
       "      <th>781113</th>\n",
       "      <td>93e74fd6e45891db0fdf946ce349703d01c903dd</td>\n",
       "      <td>365689b9f3107b807470fe16b781f7ae5e76e057e00a19...</td>\n",
       "      <td>2015-03-10T20:45:00.000</td>\n",
       "      <td>2015-03-10T21:00:00.000</td>\n",
       "      <td>480.0</td>\n",
       "      <td>0.0</td>\n",
       "      <td>6.65</td>\n",
       "      <td>1.00</td>\n",
       "      <td>0.0</td>\n",
       "      <td>7.65</td>\n",
       "      <td>...</td>\n",
       "      <td>1.703108e+10</td>\n",
       "      <td>32.0</td>\n",
       "      <td>8.0</td>\n",
       "      <td>41.880994</td>\n",
       "      <td>-87.632746</td>\n",
       "      <td>{'type': 'Point', 'coordinates': [-87.63274648...</td>\n",
       "      <td>41.892042</td>\n",
       "      <td>-87.631864</td>\n",
       "      <td>{'type': 'Point', 'coordinates': [-87.63186394...</td>\n",
       "      <td>0.0</td>\n",
       "    </tr>\n",
       "    <tr>\n",
       "      <th>660261</th>\n",
       "      <td>3fb28e1a6aa53eaa0d754e8ae26ae2c1ec7c1a3c</td>\n",
       "      <td>c7a2b9554ad4efdac7ae4fc8ad99678ffefa21bccf6d23...</td>\n",
       "      <td>2015-03-11T08:00:00.000</td>\n",
       "      <td>2015-03-11T08:15:00.000</td>\n",
       "      <td>480.0</td>\n",
       "      <td>1.7</td>\n",
       "      <td>7.25</td>\n",
       "      <td>0.00</td>\n",
       "      <td>0.0</td>\n",
       "      <td>7.25</td>\n",
       "      <td>...</td>\n",
       "      <td>1.703184e+10</td>\n",
       "      <td>8.0</td>\n",
       "      <td>32.0</td>\n",
       "      <td>41.895033</td>\n",
       "      <td>-87.619711</td>\n",
       "      <td>{'type': 'Point', 'coordinates': [-87.61971067...</td>\n",
       "      <td>41.880994</td>\n",
       "      <td>-87.632746</td>\n",
       "      <td>{'type': 'Point', 'coordinates': [-87.63274648...</td>\n",
       "      <td>0.0</td>\n",
       "    </tr>\n",
       "    <tr>\n",
       "      <th>880801</th>\n",
       "      <td>fc96e3ea20fe7af2e1975e5d55941e59c301eb56</td>\n",
       "      <td>a9bc5e55dd09e8687769a853fe4e67226f1e16b649e7bc...</td>\n",
       "      <td>2015-04-17T19:00:00.000</td>\n",
       "      <td>2015-04-17T19:00:00.000</td>\n",
       "      <td>240.0</td>\n",
       "      <td>0.7</td>\n",
       "      <td>5.05</td>\n",
       "      <td>2.00</td>\n",
       "      <td>0.0</td>\n",
       "      <td>7.05</td>\n",
       "      <td>...</td>\n",
       "      <td>1.703184e+10</td>\n",
       "      <td>32.0</td>\n",
       "      <td>28.0</td>\n",
       "      <td>41.880994</td>\n",
       "      <td>-87.632746</td>\n",
       "      <td>{'type': 'Point', 'coordinates': [-87.63274648...</td>\n",
       "      <td>41.867902</td>\n",
       "      <td>-87.642959</td>\n",
       "      <td>{'type': 'Point', 'coordinates': [-87.64295866...</td>\n",
       "      <td>0.0</td>\n",
       "    </tr>\n",
       "    <tr>\n",
       "      <th>2930</th>\n",
       "      <td>9778151bcf26fdefa5c4692532be5bb9bfb96355</td>\n",
       "      <td>3b6f6ca381f164253171136e5ab4d752da5ec9223ea20f...</td>\n",
       "      <td>2015-10-23T18:45:00.000</td>\n",
       "      <td>2015-10-23T19:15:00.000</td>\n",
       "      <td>1820.0</td>\n",
       "      <td>3.4</td>\n",
       "      <td>15.25</td>\n",
       "      <td>0.00</td>\n",
       "      <td>1.5</td>\n",
       "      <td>16.75</td>\n",
       "      <td>...</td>\n",
       "      <td>NaN</td>\n",
       "      <td>NaN</td>\n",
       "      <td>NaN</td>\n",
       "      <td>NaN</td>\n",
       "      <td>NaN</td>\n",
       "      <td>NaN</td>\n",
       "      <td>NaN</td>\n",
       "      <td>NaN</td>\n",
       "      <td>NaN</td>\n",
       "      <td>NaN</td>\n",
       "    </tr>\n",
       "    <tr>\n",
       "      <th>1882538</th>\n",
       "      <td>499a2c2e48a65442c0c49a0ad6e2caf824560b4f</td>\n",
       "      <td>2bda8e2c6eee0728581a0614b850f52cf79004426ff1df...</td>\n",
       "      <td>2015-08-14T18:00:00.000</td>\n",
       "      <td>2015-08-14T18:00:00.000</td>\n",
       "      <td>0.0</td>\n",
       "      <td>0.0</td>\n",
       "      <td>44.25</td>\n",
       "      <td>8.85</td>\n",
       "      <td>0.0</td>\n",
       "      <td>53.10</td>\n",
       "      <td>...</td>\n",
       "      <td>NaN</td>\n",
       "      <td>NaN</td>\n",
       "      <td>NaN</td>\n",
       "      <td>NaN</td>\n",
       "      <td>NaN</td>\n",
       "      <td>NaN</td>\n",
       "      <td>NaN</td>\n",
       "      <td>NaN</td>\n",
       "      <td>NaN</td>\n",
       "      <td>0.0</td>\n",
       "    </tr>\n",
       "    <tr>\n",
       "      <th>1612737</th>\n",
       "      <td>7658ba1cd60f5dcbce7b6ade2a4784e075a80b53</td>\n",
       "      <td>1d6d1609c02f50bdd45ffcbe08fb36ce7908b2ff08b421...</td>\n",
       "      <td>2015-07-16T11:30:00.000</td>\n",
       "      <td>2015-07-16T12:00:00.000</td>\n",
       "      <td>1320.0</td>\n",
       "      <td>4.3</td>\n",
       "      <td>13.85</td>\n",
       "      <td>0.00</td>\n",
       "      <td>1.0</td>\n",
       "      <td>14.85</td>\n",
       "      <td>...</td>\n",
       "      <td>NaN</td>\n",
       "      <td>20.0</td>\n",
       "      <td>6.0</td>\n",
       "      <td>41.924347</td>\n",
       "      <td>-87.734740</td>\n",
       "      <td>{'type': 'Point', 'coordinates': [-87.73473975...</td>\n",
       "      <td>41.944227</td>\n",
       "      <td>-87.655998</td>\n",
       "      <td>{'type': 'Point', 'coordinates': [-87.65599818...</td>\n",
       "      <td>0.0</td>\n",
       "    </tr>\n",
       "    <tr>\n",
       "      <th>1094946</th>\n",
       "      <td>769ec256afa9aff9a66b0ba325c7b801282deaa7</td>\n",
       "      <td>ea7bd9f0e56d3a905d808f728cd0630e1c11d4f85a3d42...</td>\n",
       "      <td>2015-05-19T08:15:00.000</td>\n",
       "      <td>2015-05-19T08:15:00.000</td>\n",
       "      <td>600.0</td>\n",
       "      <td>3.4</td>\n",
       "      <td>9.85</td>\n",
       "      <td>0.00</td>\n",
       "      <td>0.0</td>\n",
       "      <td>9.85</td>\n",
       "      <td>...</td>\n",
       "      <td>NaN</td>\n",
       "      <td>24.0</td>\n",
       "      <td>32.0</td>\n",
       "      <td>41.901207</td>\n",
       "      <td>-87.676356</td>\n",
       "      <td>{'type': 'Point', 'coordinates': [-87.67635598...</td>\n",
       "      <td>41.878866</td>\n",
       "      <td>-87.625192</td>\n",
       "      <td>{'type': 'Point', 'coordinates': [-87.62519214...</td>\n",
       "      <td>0.0</td>\n",
       "    </tr>\n",
       "    <tr>\n",
       "      <th>784252</th>\n",
       "      <td>69f72aeccd3cc7521ed4c9b94eeb73573d8f92b1</td>\n",
       "      <td>dc5cee229b76c5da48c87dd388fa845941c54103cd1a63...</td>\n",
       "      <td>2015-03-11T00:30:00.000</td>\n",
       "      <td>2015-03-11T00:45:00.000</td>\n",
       "      <td>660.0</td>\n",
       "      <td>0.3</td>\n",
       "      <td>13.05</td>\n",
       "      <td>3.90</td>\n",
       "      <td>0.0</td>\n",
       "      <td>16.95</td>\n",
       "      <td>...</td>\n",
       "      <td>1.703107e+10</td>\n",
       "      <td>32.0</td>\n",
       "      <td>7.0</td>\n",
       "      <td>41.880994</td>\n",
       "      <td>-87.632746</td>\n",
       "      <td>{'type': 'Point', 'coordinates': [-87.63274648...</td>\n",
       "      <td>41.929078</td>\n",
       "      <td>-87.646293</td>\n",
       "      <td>{'type': 'Point', 'coordinates': [-87.64629347...</td>\n",
       "      <td>0.0</td>\n",
       "    </tr>\n",
       "    <tr>\n",
       "      <th>899077</th>\n",
       "      <td>a690e4dc1bde44a6dc0f7cd01ff0b6794f662464</td>\n",
       "      <td>96a3f43a4eb7400d581a682773569e457cdcba002adf40...</td>\n",
       "      <td>2015-04-18T01:45:00.000</td>\n",
       "      <td>2015-04-18T01:45:00.000</td>\n",
       "      <td>120.0</td>\n",
       "      <td>0.5</td>\n",
       "      <td>4.05</td>\n",
       "      <td>2.00</td>\n",
       "      <td>1.5</td>\n",
       "      <td>7.55</td>\n",
       "      <td>...</td>\n",
       "      <td>1.703108e+10</td>\n",
       "      <td>8.0</td>\n",
       "      <td>8.0</td>\n",
       "      <td>41.899156</td>\n",
       "      <td>-87.626211</td>\n",
       "      <td>{'type': 'Point', 'coordinates': [-87.62621053...</td>\n",
       "      <td>41.900266</td>\n",
       "      <td>-87.632109</td>\n",
       "      <td>{'type': 'Point', 'coordinates': [-87.63210921...</td>\n",
       "      <td>0.0</td>\n",
       "    </tr>\n",
       "    <tr>\n",
       "      <th>26280</th>\n",
       "      <td>74b2e9b100a4e965b1630c6655aea5845538155c</td>\n",
       "      <td>66e0beb5cdba833d46e74cf7d92603483d9d7237c3427d...</td>\n",
       "      <td>2015-01-24T00:15:00.000</td>\n",
       "      <td>2015-01-24T00:30:00.000</td>\n",
       "      <td>420.0</td>\n",
       "      <td>3.7</td>\n",
       "      <td>10.05</td>\n",
       "      <td>2.00</td>\n",
       "      <td>2.0</td>\n",
       "      <td>14.05</td>\n",
       "      <td>...</td>\n",
       "      <td>NaN</td>\n",
       "      <td>NaN</td>\n",
       "      <td>NaN</td>\n",
       "      <td>NaN</td>\n",
       "      <td>NaN</td>\n",
       "      <td>NaN</td>\n",
       "      <td>NaN</td>\n",
       "      <td>NaN</td>\n",
       "      <td>NaN</td>\n",
       "      <td>0.0</td>\n",
       "    </tr>\n",
       "  </tbody>\n",
       "</table>\n",
       "<p>10 rows × 23 columns</p>\n",
       "</div>"
      ],
      "text/plain": [
       "                                          trip_id  \\\n",
       "781113   93e74fd6e45891db0fdf946ce349703d01c903dd   \n",
       "660261   3fb28e1a6aa53eaa0d754e8ae26ae2c1ec7c1a3c   \n",
       "880801   fc96e3ea20fe7af2e1975e5d55941e59c301eb56   \n",
       "2930     9778151bcf26fdefa5c4692532be5bb9bfb96355   \n",
       "1882538  499a2c2e48a65442c0c49a0ad6e2caf824560b4f   \n",
       "1612737  7658ba1cd60f5dcbce7b6ade2a4784e075a80b53   \n",
       "1094946  769ec256afa9aff9a66b0ba325c7b801282deaa7   \n",
       "784252   69f72aeccd3cc7521ed4c9b94eeb73573d8f92b1   \n",
       "899077   a690e4dc1bde44a6dc0f7cd01ff0b6794f662464   \n",
       "26280    74b2e9b100a4e965b1630c6655aea5845538155c   \n",
       "\n",
       "                                                   taxi_id  \\\n",
       "781113   365689b9f3107b807470fe16b781f7ae5e76e057e00a19...   \n",
       "660261   c7a2b9554ad4efdac7ae4fc8ad99678ffefa21bccf6d23...   \n",
       "880801   a9bc5e55dd09e8687769a853fe4e67226f1e16b649e7bc...   \n",
       "2930     3b6f6ca381f164253171136e5ab4d752da5ec9223ea20f...   \n",
       "1882538  2bda8e2c6eee0728581a0614b850f52cf79004426ff1df...   \n",
       "1612737  1d6d1609c02f50bdd45ffcbe08fb36ce7908b2ff08b421...   \n",
       "1094946  ea7bd9f0e56d3a905d808f728cd0630e1c11d4f85a3d42...   \n",
       "784252   dc5cee229b76c5da48c87dd388fa845941c54103cd1a63...   \n",
       "899077   96a3f43a4eb7400d581a682773569e457cdcba002adf40...   \n",
       "26280    66e0beb5cdba833d46e74cf7d92603483d9d7237c3427d...   \n",
       "\n",
       "            trip_start_timestamp       trip_end_timestamp  trip_seconds  \\\n",
       "781113   2015-03-10T20:45:00.000  2015-03-10T21:00:00.000         480.0   \n",
       "660261   2015-03-11T08:00:00.000  2015-03-11T08:15:00.000         480.0   \n",
       "880801   2015-04-17T19:00:00.000  2015-04-17T19:00:00.000         240.0   \n",
       "2930     2015-10-23T18:45:00.000  2015-10-23T19:15:00.000        1820.0   \n",
       "1882538  2015-08-14T18:00:00.000  2015-08-14T18:00:00.000           0.0   \n",
       "1612737  2015-07-16T11:30:00.000  2015-07-16T12:00:00.000        1320.0   \n",
       "1094946  2015-05-19T08:15:00.000  2015-05-19T08:15:00.000         600.0   \n",
       "784252   2015-03-11T00:30:00.000  2015-03-11T00:45:00.000         660.0   \n",
       "899077   2015-04-18T01:45:00.000  2015-04-18T01:45:00.000         120.0   \n",
       "26280    2015-01-24T00:15:00.000  2015-01-24T00:30:00.000         420.0   \n",
       "\n",
       "         trip_miles   fare  tips  extras  trip_total  ...  \\\n",
       "781113          0.0   6.65  1.00     0.0        7.65  ...   \n",
       "660261          1.7   7.25  0.00     0.0        7.25  ...   \n",
       "880801          0.7   5.05  2.00     0.0        7.05  ...   \n",
       "2930            3.4  15.25  0.00     1.5       16.75  ...   \n",
       "1882538         0.0  44.25  8.85     0.0       53.10  ...   \n",
       "1612737         4.3  13.85  0.00     1.0       14.85  ...   \n",
       "1094946         3.4   9.85  0.00     0.0        9.85  ...   \n",
       "784252          0.3  13.05  3.90     0.0       16.95  ...   \n",
       "899077          0.5   4.05  2.00     1.5        7.55  ...   \n",
       "26280           3.7  10.05  2.00     2.0       14.05  ...   \n",
       "\n",
       "        dropoff_census_tract pickup_community_area  dropoff_community_area  \\\n",
       "781113          1.703108e+10                  32.0                     8.0   \n",
       "660261          1.703184e+10                   8.0                    32.0   \n",
       "880801          1.703184e+10                  32.0                    28.0   \n",
       "2930                     NaN                   NaN                     NaN   \n",
       "1882538                  NaN                   NaN                     NaN   \n",
       "1612737                  NaN                  20.0                     6.0   \n",
       "1094946                  NaN                  24.0                    32.0   \n",
       "784252          1.703107e+10                  32.0                     7.0   \n",
       "899077          1.703108e+10                   8.0                     8.0   \n",
       "26280                    NaN                   NaN                     NaN   \n",
       "\n",
       "         pickup_centroid_latitude  pickup_centroid_longitude  \\\n",
       "781113                  41.880994                 -87.632746   \n",
       "660261                  41.895033                 -87.619711   \n",
       "880801                  41.880994                 -87.632746   \n",
       "2930                          NaN                        NaN   \n",
       "1882538                       NaN                        NaN   \n",
       "1612737                 41.924347                 -87.734740   \n",
       "1094946                 41.901207                 -87.676356   \n",
       "784252                  41.880994                 -87.632746   \n",
       "899077                  41.899156                 -87.626211   \n",
       "26280                         NaN                        NaN   \n",
       "\n",
       "                                  pickup_centroid_location  \\\n",
       "781113   {'type': 'Point', 'coordinates': [-87.63274648...   \n",
       "660261   {'type': 'Point', 'coordinates': [-87.61971067...   \n",
       "880801   {'type': 'Point', 'coordinates': [-87.63274648...   \n",
       "2930                                                   NaN   \n",
       "1882538                                                NaN   \n",
       "1612737  {'type': 'Point', 'coordinates': [-87.73473975...   \n",
       "1094946  {'type': 'Point', 'coordinates': [-87.67635598...   \n",
       "784252   {'type': 'Point', 'coordinates': [-87.63274648...   \n",
       "899077   {'type': 'Point', 'coordinates': [-87.62621053...   \n",
       "26280                                                  NaN   \n",
       "\n",
       "         dropoff_centroid_latitude  dropoff_centroid_longitude  \\\n",
       "781113                   41.892042                  -87.631864   \n",
       "660261                   41.880994                  -87.632746   \n",
       "880801                   41.867902                  -87.642959   \n",
       "2930                           NaN                         NaN   \n",
       "1882538                        NaN                         NaN   \n",
       "1612737                  41.944227                  -87.655998   \n",
       "1094946                  41.878866                  -87.625192   \n",
       "784252                   41.929078                  -87.646293   \n",
       "899077                   41.900266                  -87.632109   \n",
       "26280                          NaN                         NaN   \n",
       "\n",
       "                                 dropoff_centroid_location  tolls  \n",
       "781113   {'type': 'Point', 'coordinates': [-87.63186394...    0.0  \n",
       "660261   {'type': 'Point', 'coordinates': [-87.63274648...    0.0  \n",
       "880801   {'type': 'Point', 'coordinates': [-87.64295866...    0.0  \n",
       "2930                                                   NaN    NaN  \n",
       "1882538                                                NaN    0.0  \n",
       "1612737  {'type': 'Point', 'coordinates': [-87.65599818...    0.0  \n",
       "1094946  {'type': 'Point', 'coordinates': [-87.62519214...    0.0  \n",
       "784252   {'type': 'Point', 'coordinates': [-87.64629347...    0.0  \n",
       "899077   {'type': 'Point', 'coordinates': [-87.63210921...    0.0  \n",
       "26280                                                  NaN    0.0  \n",
       "\n",
       "[10 rows x 23 columns]"
      ]
     },
     "execution_count": 26,
     "metadata": {},
     "output_type": "execute_result"
    }
   ],
   "source": [
    "df2015.sample(10)"
   ]
  },
  {
   "cell_type": "markdown",
   "metadata": {},
   "source": [
    "Question: Use the `.info()` function in Pandas to view data types of each column."
   ]
  },
  {
   "cell_type": "code",
   "execution_count": 27,
   "metadata": {},
   "outputs": [
    {
     "name": "stdout",
     "output_type": "stream",
     "text": [
      "<class 'pandas.core.frame.DataFrame'>\n",
      "RangeIndex: 2000000 entries, 0 to 1999999\n",
      "Data columns (total 23 columns):\n",
      " #   Column                      Dtype  \n",
      "---  ------                      -----  \n",
      " 0   trip_id                     object \n",
      " 1   taxi_id                     object \n",
      " 2   trip_start_timestamp        object \n",
      " 3   trip_end_timestamp          object \n",
      " 4   trip_seconds                float64\n",
      " 5   trip_miles                  float64\n",
      " 6   fare                        float64\n",
      " 7   tips                        float64\n",
      " 8   extras                      float64\n",
      " 9   trip_total                  float64\n",
      " 10  payment_type                object \n",
      " 11  company                     object \n",
      " 12  pickup_census_tract         float64\n",
      " 13  dropoff_census_tract        float64\n",
      " 14  pickup_community_area       float64\n",
      " 15  dropoff_community_area      float64\n",
      " 16  pickup_centroid_latitude    float64\n",
      " 17  pickup_centroid_longitude   float64\n",
      " 18  pickup_centroid_location    object \n",
      " 19  dropoff_centroid_latitude   float64\n",
      " 20  dropoff_centroid_longitude  float64\n",
      " 21  dropoff_centroid_location   object \n",
      " 22  tolls                       float64\n",
      "dtypes: float64(15), object(8)\n",
      "memory usage: 351.0+ MB\n"
     ]
    }
   ],
   "source": [
    "df2015.info()"
   ]
  },
  {
   "cell_type": "markdown",
   "metadata": {},
   "source": [
    "## 1. Clean Data\n",
    "--------"
   ]
  },
  {
   "cell_type": "markdown",
   "metadata": {},
   "source": [
    "\n",
    "### 1.1 Eliminate bad data"
   ]
  },
  {
   "cell_type": "markdown",
   "metadata": {},
   "source": [
    "Question:"
   ]
  },
  {
   "cell_type": "markdown",
   "metadata": {},
   "source": [
    "#### 1.1.1 Delete trips with any of the following trip characteristics:\n",
    "- zero or missing fare \n",
    "- zero or missing trip_total\n",
    "- *missing* tips"
   ]
  },
  {
   "cell_type": "code",
   "execution_count": 28,
   "metadata": {},
   "outputs": [
    {
     "data": {
      "text/plain": [
       "(1997093, 23)"
      ]
     },
     "execution_count": 28,
     "metadata": {},
     "output_type": "execute_result"
    }
   ],
   "source": [
    "condition1 = (df2015['fare'].isnull()) | (df2015['fare']==0)\n",
    "df2015 = df2015[~condition1]\n",
    "\n",
    "df2015.shape"
   ]
  },
  {
   "cell_type": "code",
   "execution_count": 29,
   "metadata": {},
   "outputs": [
    {
     "data": {
      "text/plain": [
       "(1997093, 23)"
      ]
     },
     "execution_count": 29,
     "metadata": {},
     "output_type": "execute_result"
    }
   ],
   "source": [
    "condition2 = (df2015['trip_total'].isnull()) | (df2015['trip_total']==0)\n",
    "df2015 = df2015[~condition2]\n",
    "\n",
    "df2015.shape"
   ]
  },
  {
   "cell_type": "code",
   "execution_count": 30,
   "metadata": {},
   "outputs": [
    {
     "data": {
      "text/plain": [
       "(1997093, 23)"
      ]
     },
     "execution_count": 30,
     "metadata": {},
     "output_type": "execute_result"
    }
   ],
   "source": [
    "condition3 = (df2015['tips'].isnull())\n",
    "df2015 = df2015[~condition3]\n",
    "\n",
    "df2015.shape"
   ]
  },
  {
   "cell_type": "markdown",
   "metadata": {},
   "source": [
    "Question:"
   ]
  },
  {
   "cell_type": "markdown",
   "metadata": {},
   "source": [
    "#### 1.1.2 Delete trips with any of the following characteristics: \n",
    "- NaN (missing) mileage\n",
    "- Zero or NaN (missing) seconds."
   ]
  },
  {
   "cell_type": "code",
   "execution_count": 31,
   "metadata": {},
   "outputs": [
    {
     "data": {
      "text/plain": [
       "(1997089, 23)"
      ]
     },
     "execution_count": 31,
     "metadata": {},
     "output_type": "execute_result"
    }
   ],
   "source": [
    "condition4 = (df2015['trip_miles'].isnull())\n",
    "df2015 = df2015[~condition4]\n",
    "\n",
    "df2015.shape"
   ]
  },
  {
   "cell_type": "code",
   "execution_count": 32,
   "metadata": {},
   "outputs": [
    {
     "data": {
      "text/plain": [
       "(1740739, 23)"
      ]
     },
     "execution_count": 32,
     "metadata": {},
     "output_type": "execute_result"
    }
   ],
   "source": [
    "condition5 = (df2015['trip_seconds'].isnull()) | (df2015['trip_seconds']==0)\n",
    "df2015 = df2015[~condition5]\n",
    "\n",
    "df2015.shape"
   ]
  },
  {
   "cell_type": "markdown",
   "metadata": {},
   "source": [
    "# Question:"
   ]
  },
  {
   "cell_type": "markdown",
   "metadata": {},
   "source": [
    "#### 1.1.2 Delete trips with no mileage (equal to zero) but starting and stopping in a different community, since these are likely mistakes.\n",
    "#### 1.1.3 Delete trips with no seconds (equal to zero) but starting and stopping in a different community, since these are likely mistakes."
   ]
  },
  {
   "cell_type": "code",
   "execution_count": 33,
   "metadata": {
    "scrolled": true
   },
   "outputs": [],
   "source": [
    "condition6 = (df2015['trip_miles']==0) & (df2015[\"pickup_centroid_location\"] != df2015[\"dropoff_centroid_location\"])\n",
    "df2015 = df2015[~condition6]"
   ]
  },
  {
   "cell_type": "code",
   "execution_count": 34,
   "metadata": {},
   "outputs": [
    {
     "data": {
      "text/plain": [
       "(1389100, 23)"
      ]
     },
     "execution_count": 34,
     "metadata": {},
     "output_type": "execute_result"
    }
   ],
   "source": [
    "df2015.shape"
   ]
  },
  {
   "cell_type": "code",
   "execution_count": 35,
   "metadata": {},
   "outputs": [
    {
     "data": {
      "text/plain": [
       "(1389100, 23)"
      ]
     },
     "execution_count": 35,
     "metadata": {},
     "output_type": "execute_result"
    }
   ],
   "source": [
    "condition7 = (df2015['trip_seconds']==0) & (df2015[\"pickup_centroid_location\"] != df2015[\"dropoff_centroid_location\"])\n",
    "df2015 = df2015[~condition7]\n",
    "df2015.shape"
   ]
  },
  {
   "cell_type": "code",
   "execution_count": null,
   "metadata": {},
   "outputs": [],
   "source": []
  },
  {
   "cell_type": "markdown",
   "metadata": {},
   "source": [
    "#### 1.1.4 Delete trips with missing pick up latitude or longitude."
   ]
  },
  {
   "cell_type": "code",
   "execution_count": 36,
   "metadata": {},
   "outputs": [
    {
     "data": {
      "text/plain": [
       "(1226479, 23)"
      ]
     },
     "execution_count": 36,
     "metadata": {},
     "output_type": "execute_result"
    }
   ],
   "source": [
    "condition8 = (df2015['pickup_centroid_latitude'].isnull()) | (df2015['pickup_centroid_latitude'].isnull())\n",
    "df2015 = df2015[~condition8]\n",
    "df2015.shape"
   ]
  },
  {
   "cell_type": "code",
   "execution_count": null,
   "metadata": {},
   "outputs": [],
   "source": []
  },
  {
   "cell_type": "markdown",
   "metadata": {},
   "source": [
    "### 1.2 Fix datetime"
   ]
  },
  {
   "cell_type": "markdown",
   "metadata": {},
   "source": [
    "Question:"
   ]
  },
  {
   "cell_type": "markdown",
   "metadata": {},
   "source": [
    "#### 1.2.1 Create a new column that converts `trip_start_timestamp` and `trip_end_timestamp` to a datetime object"
   ]
  },
  {
   "cell_type": "code",
   "execution_count": 37,
   "metadata": {},
   "outputs": [],
   "source": [
    "df2015['startDateTime'] = pd.to_datetime(df2015['trip_start_timestamp'])\n",
    "df2015['endDateTime'] = pd.to_datetime(df2015['trip_end_timestamp'])"
   ]
  },
  {
   "cell_type": "markdown",
   "metadata": {},
   "source": [
    "Questions;"
   ]
  },
  {
   "cell_type": "markdown",
   "metadata": {},
   "source": [
    "#### 1.2.2 Create four new columns - for the month, day, hour, and day of the week, respectively (use the start of the trip, since that is something the taxi driver can control)"
   ]
  },
  {
   "cell_type": "code",
   "execution_count": 38,
   "metadata": {},
   "outputs": [
    {
     "data": {
      "text/plain": [
       "(922773, 29)"
      ]
     },
     "execution_count": 38,
     "metadata": {},
     "output_type": "execute_result"
    }
   ],
   "source": [
    "df2015['startYear'] = pd.DatetimeIndex(df2015['startDateTime']).year\n",
    "df2015['startMonth'] = pd.DatetimeIndex(df2015['startDateTime']).month\n",
    "df2015['startDay'] = pd.DatetimeIndex(df2015['startDateTime']).day\n",
    "df2015['startHoue'] = pd.DatetimeIndex(df2015['startDateTime']).hour\n",
    "\n",
    "condition9 = df2015['startMonth'] < 7\n",
    "df2015 = df2015[condition9]\n",
    "df2015.shape"
   ]
  },
  {
   "cell_type": "markdown",
   "metadata": {},
   "source": [
    "### 1.3 Deal with outliers"
   ]
  },
  {
   "cell_type": "markdown",
   "metadata": {},
   "source": [
    "### Using reasonable judgement to identify outliers"
   ]
  },
  {
   "cell_type": "markdown",
   "metadata": {},
   "source": [
    "Most very high cost trips are probably errors or uninteresting since they have took very few seconds and went very few miles. For example, it does not seem plausible that a $8,000 cab fare took went about 0 miles and took about 1 second. "
   ]
  },
  {
   "cell_type": "markdown",
   "metadata": {},
   "source": [
    "Let's correct this by eliminating rows with unusually high dollars per second (i.e., trip with unreasonably low seconds but high fare). Create the appropriate fare per seconds ratio and eliminate those with a ratio greater than $0.80 per second."
   ]
  },
  {
   "cell_type": "code",
   "execution_count": 39,
   "metadata": {},
   "outputs": [
    {
     "data": {
      "text/plain": [
       "(922733, 29)"
      ]
     },
     "execution_count": 39,
     "metadata": {},
     "output_type": "execute_result"
    }
   ],
   "source": [
    "condition10 = (df2015['fare']/df2015['trip_seconds'] > .8)\n",
    "df2015 = df2015[~condition10]\n",
    "\n",
    "df2015.shape"
   ]
  },
  {
   "cell_type": "code",
   "execution_count": null,
   "metadata": {},
   "outputs": [],
   "source": []
  },
  {
   "cell_type": "markdown",
   "metadata": {},
   "source": [
    "## 2. Predictive Analytics - Regression\n",
    "----------"
   ]
  },
  {
   "cell_type": "markdown",
   "metadata": {},
   "source": [
    "### 2.1 Two Basic Regressions"
   ]
  },
  {
   "cell_type": "markdown",
   "metadata": {},
   "source": [
    "Question: Run two regression analyses below. The first regression predicts `fare` (the dependent variable, Y) using `trip_seconds`, `trip_miles`, `hour`, `month`, and `dayofweek`.  </p>\n",
    "Run the regression discussed above using `fare` as the dependent variable and display the results."
   ]
  },
  {
   "cell_type": "code",
   "execution_count": 44,
   "metadata": {},
   "outputs": [
    {
     "data": {
      "text/html": [
       "<table class=\"simpletable\">\n",
       "<caption>OLS Regression Results</caption>\n",
       "<tr>\n",
       "  <th>Dep. Variable:</th>          <td>fare</td>       <th>  R-squared:         </th>  <td>   0.750</td>  \n",
       "</tr>\n",
       "<tr>\n",
       "  <th>Model:</th>                   <td>OLS</td>       <th>  Adj. R-squared:    </th>  <td>   0.750</td>  \n",
       "</tr>\n",
       "<tr>\n",
       "  <th>Method:</th>             <td>Least Squares</td>  <th>  F-statistic:       </th>  <td>5.547e+05</td> \n",
       "</tr>\n",
       "<tr>\n",
       "  <th>Date:</th>             <td>Tue, 05 Apr 2022</td> <th>  Prob (F-statistic):</th>   <td>  0.00</td>   \n",
       "</tr>\n",
       "<tr>\n",
       "  <th>Time:</th>                 <td>00:55:34</td>     <th>  Log-Likelihood:    </th> <td>-2.8190e+06</td>\n",
       "</tr>\n",
       "<tr>\n",
       "  <th>No. Observations:</th>      <td>922733</td>      <th>  AIC:               </th>  <td>5.638e+06</td> \n",
       "</tr>\n",
       "<tr>\n",
       "  <th>Df Residuals:</th>          <td>922727</td>      <th>  BIC:               </th>  <td>5.638e+06</td> \n",
       "</tr>\n",
       "<tr>\n",
       "  <th>Df Model:</th>              <td>     5</td>      <th>                     </th>      <td> </td>     \n",
       "</tr>\n",
       "<tr>\n",
       "  <th>Covariance Type:</th>      <td>nonrobust</td>    <th>                     </th>      <td> </td>     \n",
       "</tr>\n",
       "</table>\n",
       "<table class=\"simpletable\">\n",
       "<tr>\n",
       "        <td></td>          <th>coef</th>     <th>std err</th>      <th>t</th>      <th>P>|t|</th>  <th>[0.025</th>    <th>0.975]</th>  \n",
       "</tr>\n",
       "<tr>\n",
       "  <th>Intercept</th>    <td>    4.2460</td> <td>    0.020</td> <td>  214.685</td> <td> 0.000</td> <td>    4.207</td> <td>    4.285</td>\n",
       "</tr>\n",
       "<tr>\n",
       "  <th>trip_seconds</th> <td>    0.0087</td> <td> 8.06e-06</td> <td> 1076.286</td> <td> 0.000</td> <td>    0.009</td> <td>    0.009</td>\n",
       "</tr>\n",
       "<tr>\n",
       "  <th>trip_miles</th>   <td>    0.5532</td> <td>    0.001</td> <td>  552.683</td> <td> 0.000</td> <td>    0.551</td> <td>    0.555</td>\n",
       "</tr>\n",
       "<tr>\n",
       "  <th>startHoue</th>    <td>   -0.0450</td> <td>    0.001</td> <td>  -57.058</td> <td> 0.000</td> <td>   -0.047</td> <td>   -0.043</td>\n",
       "</tr>\n",
       "<tr>\n",
       "  <th>startMonth</th>   <td>    0.0117</td> <td>    0.003</td> <td>    3.669</td> <td> 0.000</td> <td>    0.005</td> <td>    0.018</td>\n",
       "</tr>\n",
       "<tr>\n",
       "  <th>dayofweek</th>    <td>   -0.1109</td> <td>    0.003</td> <td>  -41.265</td> <td> 0.000</td> <td>   -0.116</td> <td>   -0.106</td>\n",
       "</tr>\n",
       "</table>\n",
       "<table class=\"simpletable\">\n",
       "<tr>\n",
       "  <th>Omnibus:</th>       <td>2461992.415</td> <th>  Durbin-Watson:     </th>     <td>   1.979</td>    \n",
       "</tr>\n",
       "<tr>\n",
       "  <th>Prob(Omnibus):</th>   <td> 0.000</td>    <th>  Jarque-Bera (JB):  </th> <td>601633796172.169</td>\n",
       "</tr>\n",
       "<tr>\n",
       "  <th>Skew:</th>            <td>-31.248</td>   <th>  Prob(JB):          </th>     <td>    0.00</td>    \n",
       "</tr>\n",
       "<tr>\n",
       "  <th>Kurtosis:</th>       <td>3958.301</td>   <th>  Cond. No.          </th>     <td>4.23e+03</td>    \n",
       "</tr>\n",
       "</table><br/><br/>Notes:<br/>[1] Standard Errors assume that the covariance matrix of the errors is correctly specified.<br/>[2] The condition number is large, 4.23e+03. This might indicate that there are<br/>strong multicollinearity or other numerical problems."
      ],
      "text/plain": [
       "<class 'statsmodels.iolib.summary.Summary'>\n",
       "\"\"\"\n",
       "                            OLS Regression Results                            \n",
       "==============================================================================\n",
       "Dep. Variable:                   fare   R-squared:                       0.750\n",
       "Model:                            OLS   Adj. R-squared:                  0.750\n",
       "Method:                 Least Squares   F-statistic:                 5.547e+05\n",
       "Date:                Tue, 05 Apr 2022   Prob (F-statistic):               0.00\n",
       "Time:                        00:55:34   Log-Likelihood:            -2.8190e+06\n",
       "No. Observations:              922733   AIC:                         5.638e+06\n",
       "Df Residuals:                  922727   BIC:                         5.638e+06\n",
       "Df Model:                           5                                         \n",
       "Covariance Type:            nonrobust                                         \n",
       "================================================================================\n",
       "                   coef    std err          t      P>|t|      [0.025      0.975]\n",
       "--------------------------------------------------------------------------------\n",
       "Intercept        4.2460      0.020    214.685      0.000       4.207       4.285\n",
       "trip_seconds     0.0087   8.06e-06   1076.286      0.000       0.009       0.009\n",
       "trip_miles       0.5532      0.001    552.683      0.000       0.551       0.555\n",
       "startHoue       -0.0450      0.001    -57.058      0.000      -0.047      -0.043\n",
       "startMonth       0.0117      0.003      3.669      0.000       0.005       0.018\n",
       "dayofweek       -0.1109      0.003    -41.265      0.000      -0.116      -0.106\n",
       "==============================================================================\n",
       "Omnibus:                  2461992.415   Durbin-Watson:                   1.979\n",
       "Prob(Omnibus):                  0.000   Jarque-Bera (JB):     601633796172.169\n",
       "Skew:                         -31.248   Prob(JB):                         0.00\n",
       "Kurtosis:                    3958.301   Cond. No.                     4.23e+03\n",
       "==============================================================================\n",
       "\n",
       "Notes:\n",
       "[1] Standard Errors assume that the covariance matrix of the errors is correctly specified.\n",
       "[2] The condition number is large, 4.23e+03. This might indicate that there are\n",
       "strong multicollinearity or other numerical problems.\n",
       "\"\"\""
      ]
     },
     "execution_count": 44,
     "metadata": {},
     "output_type": "execute_result"
    }
   ],
   "source": [
    "df2015['dayofweek'] = pd.DatetimeIndex(df2015['startDateTime']).dayofweek\n",
    "results_fare = smf.ols('fare ~ trip_seconds + trip_miles + startHoue + startMonth + dayofweek', data=df2015).fit()\n",
    "results_fare.summary()"
   ]
  },
  {
   "cell_type": "markdown",
   "metadata": {},
   "source": [
    "Question: Run the regression discussed above using `tips` as the dependent variable and display the results."
   ]
  },
  {
   "cell_type": "code",
   "execution_count": 45,
   "metadata": {},
   "outputs": [
    {
     "data": {
      "text/html": [
       "<table class=\"simpletable\">\n",
       "<caption>OLS Regression Results</caption>\n",
       "<tr>\n",
       "  <th>Dep. Variable:</th>          <td>tips</td>       <th>  R-squared:         </th>  <td>   0.184</td>  \n",
       "</tr>\n",
       "<tr>\n",
       "  <th>Model:</th>                   <td>OLS</td>       <th>  Adj. R-squared:    </th>  <td>   0.184</td>  \n",
       "</tr>\n",
       "<tr>\n",
       "  <th>Method:</th>             <td>Least Squares</td>  <th>  F-statistic:       </th>  <td>4.162e+04</td> \n",
       "</tr>\n",
       "<tr>\n",
       "  <th>Date:</th>             <td>Tue, 05 Apr 2022</td> <th>  Prob (F-statistic):</th>   <td>  0.00</td>   \n",
       "</tr>\n",
       "<tr>\n",
       "  <th>Time:</th>                 <td>00:56:06</td>     <th>  Log-Likelihood:    </th> <td>-2.0560e+06</td>\n",
       "</tr>\n",
       "<tr>\n",
       "  <th>No. Observations:</th>      <td>922733</td>      <th>  AIC:               </th>  <td>4.112e+06</td> \n",
       "</tr>\n",
       "<tr>\n",
       "  <th>Df Residuals:</th>          <td>922727</td>      <th>  BIC:               </th>  <td>4.112e+06</td> \n",
       "</tr>\n",
       "<tr>\n",
       "  <th>Df Model:</th>              <td>     5</td>      <th>                     </th>      <td> </td>     \n",
       "</tr>\n",
       "<tr>\n",
       "  <th>Covariance Type:</th>      <td>nonrobust</td>    <th>                     </th>      <td> </td>     \n",
       "</tr>\n",
       "</table>\n",
       "<table class=\"simpletable\">\n",
       "<tr>\n",
       "        <td></td>          <th>coef</th>     <th>std err</th>      <th>t</th>      <th>P>|t|</th>  <th>[0.025</th>    <th>0.975]</th>  \n",
       "</tr>\n",
       "<tr>\n",
       "  <th>Intercept</th>    <td>    0.3295</td> <td>    0.009</td> <td>   38.086</td> <td> 0.000</td> <td>    0.313</td> <td>    0.346</td>\n",
       "</tr>\n",
       "<tr>\n",
       "  <th>trip_seconds</th> <td>    0.0009</td> <td> 3.53e-06</td> <td>  259.508</td> <td> 0.000</td> <td>    0.001</td> <td>    0.001</td>\n",
       "</tr>\n",
       "<tr>\n",
       "  <th>trip_miles</th>   <td>    0.0817</td> <td>    0.000</td> <td>  186.638</td> <td> 0.000</td> <td>    0.081</td> <td>    0.083</td>\n",
       "</tr>\n",
       "<tr>\n",
       "  <th>startHoue</th>    <td>    0.0006</td> <td>    0.000</td> <td>    1.694</td> <td> 0.090</td> <td>-9.17e-05</td> <td>    0.001</td>\n",
       "</tr>\n",
       "<tr>\n",
       "  <th>startMonth</th>   <td>    0.0346</td> <td>    0.001</td> <td>   24.710</td> <td> 0.000</td> <td>    0.032</td> <td>    0.037</td>\n",
       "</tr>\n",
       "<tr>\n",
       "  <th>dayofweek</th>    <td>   -0.0506</td> <td>    0.001</td> <td>  -43.055</td> <td> 0.000</td> <td>   -0.053</td> <td>   -0.048</td>\n",
       "</tr>\n",
       "</table>\n",
       "<table class=\"simpletable\">\n",
       "<tr>\n",
       "  <th>Omnibus:</th>       <td>2275043.881</td> <th>  Durbin-Watson:     </th>     <td>   1.999</td>     \n",
       "</tr>\n",
       "<tr>\n",
       "  <th>Prob(Omnibus):</th>   <td> 0.000</td>    <th>  Jarque-Bera (JB):  </th> <td>1306382680811.042</td>\n",
       "</tr>\n",
       "<tr>\n",
       "  <th>Skew:</th>            <td>24.900</td>    <th>  Prob(JB):          </th>     <td>    0.00</td>     \n",
       "</tr>\n",
       "<tr>\n",
       "  <th>Kurtosis:</th>       <td>5831.905</td>   <th>  Cond. No.          </th>     <td>4.23e+03</td>     \n",
       "</tr>\n",
       "</table><br/><br/>Notes:<br/>[1] Standard Errors assume that the covariance matrix of the errors is correctly specified.<br/>[2] The condition number is large, 4.23e+03. This might indicate that there are<br/>strong multicollinearity or other numerical problems."
      ],
      "text/plain": [
       "<class 'statsmodels.iolib.summary.Summary'>\n",
       "\"\"\"\n",
       "                            OLS Regression Results                            \n",
       "==============================================================================\n",
       "Dep. Variable:                   tips   R-squared:                       0.184\n",
       "Model:                            OLS   Adj. R-squared:                  0.184\n",
       "Method:                 Least Squares   F-statistic:                 4.162e+04\n",
       "Date:                Tue, 05 Apr 2022   Prob (F-statistic):               0.00\n",
       "Time:                        00:56:06   Log-Likelihood:            -2.0560e+06\n",
       "No. Observations:              922733   AIC:                         4.112e+06\n",
       "Df Residuals:                  922727   BIC:                         4.112e+06\n",
       "Df Model:                           5                                         \n",
       "Covariance Type:            nonrobust                                         \n",
       "================================================================================\n",
       "                   coef    std err          t      P>|t|      [0.025      0.975]\n",
       "--------------------------------------------------------------------------------\n",
       "Intercept        0.3295      0.009     38.086      0.000       0.313       0.346\n",
       "trip_seconds     0.0009   3.53e-06    259.508      0.000       0.001       0.001\n",
       "trip_miles       0.0817      0.000    186.638      0.000       0.081       0.083\n",
       "startHoue        0.0006      0.000      1.694      0.090   -9.17e-05       0.001\n",
       "startMonth       0.0346      0.001     24.710      0.000       0.032       0.037\n",
       "dayofweek       -0.0506      0.001    -43.055      0.000      -0.053      -0.048\n",
       "==============================================================================\n",
       "Omnibus:                  2275043.881   Durbin-Watson:                   1.999\n",
       "Prob(Omnibus):                  0.000   Jarque-Bera (JB):    1306382680811.042\n",
       "Skew:                          24.900   Prob(JB):                         0.00\n",
       "Kurtosis:                    5831.905   Cond. No.                     4.23e+03\n",
       "==============================================================================\n",
       "\n",
       "Notes:\n",
       "[1] Standard Errors assume that the covariance matrix of the errors is correctly specified.\n",
       "[2] The condition number is large, 4.23e+03. This might indicate that there are\n",
       "strong multicollinearity or other numerical problems.\n",
       "\"\"\""
      ]
     },
     "execution_count": 45,
     "metadata": {},
     "output_type": "execute_result"
    }
   ],
   "source": [
    "results_tips = smf.ols('tips ~ trip_seconds + trip_miles + startHoue + startMonth + dayofweek', data=df2015).fit()\n",
    "results_tips.summary()"
   ]
  },
  {
   "cell_type": "markdown",
   "metadata": {},
   "source": [
    "### 2.2 Tell a story"
   ]
  },
  {
   "cell_type": "markdown",
   "metadata": {},
   "source": [
    "Question: Finally, choose two coefficients from those modeled above and make recommendations to your supervisor for the Yellow Cab Company client about how drivers can maximize their expected trip_total and/or tips.\n",
    "\n",
    "(In other words, choose two coefficients and interpret what they mean in the language of business. Use that to recommend a cab driver to take an action for example \"Prioritizing driving on Wednesdays\" or \"Start your trips at 10am\")"
   ]
  },
  {
   "cell_type": "code",
   "execution_count": null,
   "metadata": {},
   "outputs": [],
   "source": [
    "#To Maximize tips and fares you should try to increase your trip miles and also work later in the year as trip month \n",
    "#is postively correlated with both tips and fates. For tips specifically you should start your trips later as they are slightly\n",
    "#positvely correlated with tips\n"
   ]
  }
 ],
 "metadata": {
  "kernelspec": {
   "display_name": "Python 3 (ipykernel)",
   "language": "python",
   "name": "python3"
  },
  "language_info": {
   "codemirror_mode": {
    "name": "ipython",
    "version": 3
   },
   "file_extension": ".py",
   "mimetype": "text/x-python",
   "name": "python",
   "nbconvert_exporter": "python",
   "pygments_lexer": "ipython3",
   "version": "3.9.7"
  }
 },
 "nbformat": 4,
 "nbformat_minor": 2
}
