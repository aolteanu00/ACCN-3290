{
 "cells": [
  {
   "cell_type": "markdown",
   "metadata": {},
   "source": [
    "## Tech 6 Identifying Firms with Restatements ##\n",
    "\n",
    "Please create a new Jupyter Notebook file and then perform the analyses using Python codes. For every question, please write down the codes and execute them to get results. Please also **explain your findings in Markdown cells or comments right after the returning results.**\n",
    "\n",
    "After you finish the analyses, please **make sure every cell is executed and all the returning results are presented**. Then you can save the file and submit it to Canvas. **Each group only has to submit one file but everyone should make sure they are able to write and run the code.**"
   ]
  },
  {
   "cell_type": "markdown",
   "metadata": {},
   "source": [
    "## Introduction ##\n",
    "Public firms are required to issue annual financial reports (10-Ks in the US) every year. Managers are responsible for preparing these reports. The reports are then audited by external auditors before the public release. Despite all the efforts, the final reports that are released to the public could still contain errors. When managers identify material errors in the previous annual reports, they are required by the U.S. Securities and Exchange Commission (SEC) to correct the errors and restate their original reports.\n",
    "\n",
    "The SEC's Enforcement division performs regular reviews over public firms' financial reporting in order to protect investors from potential accounting frauds. Your group is hired by them to examine which types of firms are more likely to restate their annual reports using a large sample. You are asked to perform the following two tasks by analyzing the provided dataset (*resta_data_00_17.csv*). This dataset include companies' business characteristics, their auditors' identity, and the information on whether their financial reports are restated. Please see below for a description of the dataset variables.\n",
    "\n",
    "## Dataset Description ##\n",
    "- datadate: fiscal year end\n",
    "- fyear: fiscal year\n",
    "- conm: company name\n",
    "- resta: an indicator that equals to one if the company's annual report in the corresponding fiscal year is later restated, zero othewise\n",
    "- auditor_fkey: numerical identifier for the company's auditor (Big Four: 1-PWC, 2-EY, 3-Deloitte, 4-KPMG; Others: >=5)\n",
    "- lnassets: logarithm of total assets\n",
    "- leverage: leverage ratio (liabilities / total assets)\n",
    "- mtb: market-to-book ratio (market value / book equity)\n",
    "- newissue: the company's newly raised capital as a percentage of total assets\n",
    "- roa: return on assets (net incomes / total assets)\n",
    "- smallprofit: an indicator that equals to one if the company reports small profits, zero othewise\n",
    "- lnsegment: logarithm of the number of total business segments within the company\n",
    "- foreign: an indicator that equals to one if the company has sales in foreign territories, zero othewise\n",
    "- sgr: sales growth\n",
    "- lnage: logarithm of the company's age\n",
    "- icweak: an indicator that equals to one if the company has at least one internal control weakness, zero othewise\n",
    "- big4: an indicator that equals to one if the company has is audited by one of Big Four, zero othewise\n",
    "\n",
    "*Note: Certain variables are transformed to logarithms, which are more suited for statistical tests.*\n",
    "\n",
    "## Questions ##\n",
    "\n",
    "Based on the case-by-case investigations, the enforcement division identifys three major types of firms that are extremely susceptible to accounting restaments.\n",
    "- Firms with weaker internal controls\n",
    "- Firms with more complex business\n",
    "- Firms with greater incentives to manage their earnings\n",
    "\n",
    "**Question 1: Please use statistical tests to examine whether the SEC's three conjectures above are supported by the data.**  \n",
    "  \n",
    "*Hint 1: First, identify the construct in each conjecture. Second, find a relevant variable in the dataset for each construct; there can be more than one variable related to a construct, but you only have to pick one (you can do more if you want). Third, examine whether firms with restatements and firms without restatements differ in those variables.*\n",
    "\n",
    "*Hint 2: When it comes to managing earnings, firms that raise more capitals have greater incentives to manage their earning to lower capital costs. In addition, firms that report small profits likely manage their earnigns upward to avoid losses.*\n",
    "\n",
    "*Hint 3: See below cells for sample codes to test whether companies with restatements and companies without restatements have different averages of internal control weakness.*\n",
    "\n",
    "**Question 2: Recently, The Wall Street Journal has reported that several companies with major accounting scandals in 2020 are all audited by Ernst & Young. The journalists were concerned that Ernst & Young might not provide audits as good as the other audit firms. In the context of this dataset, can you examine if the average restatement rate of firms audited by Ernst & Young is significantly greater than 11.8% (the average restatement rate for all companies)?**  \n",
    "  \n",
    "  \n",
    "*If you are intereted in reading that WSJ article, you can search \"String of Firms That Imploded Have Something in Common: Ernst & Young Audited Them\" (by Patricia Kowsmann,  Mark Maurer, and Jing Yang; October 16, 2020)*    "
   ]
  },
  {
   "cell_type": "code",
   "execution_count": 13,
   "metadata": {},
   "outputs": [],
   "source": [
    "import pandas as pd\n",
    "import scipy.stats as stat"
   ]
  },
  {
   "cell_type": "code",
   "execution_count": 14,
   "metadata": {},
   "outputs": [],
   "source": [
    "audit = pd.read_csv('resta_data_00_17.csv', parse_dates = ['datadate'])"
   ]
  },
  {
   "cell_type": "code",
   "execution_count": 15,
   "metadata": {},
   "outputs": [],
   "source": [
    "resta = audit[audit['resta'] == 1]"
   ]
  },
  {
   "cell_type": "code",
   "execution_count": 16,
   "metadata": {},
   "outputs": [],
   "source": [
    "nonresta = audit[audit['resta'] == 0]"
   ]
  },
  {
   "cell_type": "code",
   "execution_count": 17,
   "metadata": {},
   "outputs": [
    {
     "data": {
      "text/plain": [
       "0.03890817537021113"
      ]
     },
     "execution_count": 17,
     "metadata": {},
     "output_type": "execute_result"
    }
   ],
   "source": [
    "resta['icweak'].mean() - nonresta['icweak'].mean()"
   ]
  },
  {
   "cell_type": "code",
   "execution_count": 28,
   "metadata": {},
   "outputs": [
    {
     "name": "stdout",
     "output_type": "stream",
     "text": [
      "ttest_ind_stats: t = 14.733  p = 0.00000000000000000000000000000000000000000000000053\n"
     ]
    }
   ],
   "source": [
    "t, p = stat.ttest_ind(resta['icweak'], nonresta['icweak'])\n",
    "print(\"ttest_ind_stats: t = %.3f  p = %.50f\" % (t, p))"
   ]
  },
  {
   "cell_type": "code",
   "execution_count": 29,
   "metadata": {},
   "outputs": [
    {
     "name": "stdout",
     "output_type": "stream",
     "text": [
      "ttest_ind_stats: t = 12.666  p = 0.00000000000000000000000000000000000106309394586215\n"
     ]
    }
   ],
   "source": [
    "t, p = stat.ttest_ind(resta['lnsegment'], nonresta['lnsegment'])\n",
    "print(\"ttest_ind_stats: t = %.3f  p = %.50f\" % (t, p))\n",
    "\n",
    "#With a p-value of ~ 0.00 there is very strong evidence that the firms with more complex segments are more \n",
    "#likely to have to restate their earnings"
   ]
  },
  {
   "cell_type": "code",
   "execution_count": 31,
   "metadata": {},
   "outputs": [
    {
     "name": "stdout",
     "output_type": "stream",
     "text": [
      "ttest_ind_stats: t = 7.294  p = 0.00000000000030694914485978792924385137969592456954\n"
     ]
    }
   ],
   "source": [
    "t, p = stat.ttest_ind(resta['smallprofit'], nonresta['smallprofit'])\n",
    "print(\"ttest_ind_stats: t = %.3f  p = %.50f\" % (t, p))\n",
    "#With a p-value of ~ 0.00 there is very strong evidence that the firms with small profits are more \n",
    "#likely to have to restate their earnings"
   ]
  },
  {
   "cell_type": "code",
   "execution_count": 33,
   "metadata": {},
   "outputs": [
    {
     "name": "stdout",
     "output_type": "stream",
     "text": [
      "ttest_ind_stats: t = -0.515  p = 0.606\n"
     ]
    }
   ],
   "source": [
    "t, p = stat.ttest_ind(resta['newissue'], nonresta['newissue'])\n",
    "print(\"ttest_ind_stats: t = %.3f  p = %.3f\" % (t, p))\n",
    "#With a p-value of ~.6 we would not conclude that recent issuance of capital would cause a restatement of earnings."
   ]
  },
  {
   "cell_type": "code",
   "execution_count": 52,
   "metadata": {},
   "outputs": [
    {
     "data": {
      "text/plain": [
       "Ttest_1sampResult(statistic=nan, pvalue=nan)"
      ]
     },
     "execution_count": 52,
     "metadata": {},
     "output_type": "execute_result"
    }
   ],
   "source": [
    "ey = audit[audit['auditor_fkey'] == 2]\n",
    "restaey = ey[ey['resta'] == 1]\n",
    "restaey.shape\n",
    "#This has 967 observations\n",
    "ey.shape\n",
    "#This has 10334 observations\n",
    "eypercent = 967/10334\n",
    "eypercent\n",
    "average = .118\n",
    "difference = eypercent - average\n",
    "difference\n",
    "#ey has a lower rate of restatements compare to the average\n",
    "\n",
    "stat.ttest_1samp(967/10334, .118)"
   ]
  },
  {
   "cell_type": "code",
   "execution_count": 55,
   "metadata": {},
   "outputs": [
    {
     "data": {
      "text/plain": [
       "0.11899187768752986"
      ]
     },
     "execution_count": 55,
     "metadata": {},
     "output_type": "execute_result"
    }
   ],
   "source": [
    "audit.shape\n",
    "#41860\n",
    "resta.shape\n",
    "#4981\n",
    "per = 4981/41860\n",
    "per"
   ]
  },
  {
   "cell_type": "code",
   "execution_count": null,
   "metadata": {},
   "outputs": [],
   "source": []
  }
 ],
 "metadata": {
  "kernelspec": {
   "display_name": "Python 3",
   "language": "python",
   "name": "python3"
  },
  "language_info": {
   "codemirror_mode": {
    "name": "ipython",
    "version": 3
   },
   "file_extension": ".py",
   "mimetype": "text/x-python",
   "name": "python",
   "nbconvert_exporter": "python",
   "pygments_lexer": "ipython3",
   "version": "3.8.8"
  }
 },
 "nbformat": 4,
 "nbformat_minor": 2
}
