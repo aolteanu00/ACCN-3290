{
 "cells": [
  {
   "cell_type": "code",
   "execution_count": 1,
   "metadata": {},
   "outputs": [],
   "source": [
    "#Import appropriate libraries\n",
    "import pandas as pd\n",
    "import scipy.stats as st"
   ]
  },
  {
   "cell_type": "code",
   "execution_count": 8,
   "metadata": {},
   "outputs": [],
   "source": [
    "#Import CSV file as a dataframe object\n",
    "df = pd.read_csv('eps_forecast.csv')"
   ]
  },
  {
   "cell_type": "code",
   "execution_count": 9,
   "metadata": {},
   "outputs": [
    {
     "data": {
      "text/html": [
       "<div>\n",
       "<style scoped>\n",
       "    .dataframe tbody tr th:only-of-type {\n",
       "        vertical-align: middle;\n",
       "    }\n",
       "\n",
       "    .dataframe tbody tr th {\n",
       "        vertical-align: top;\n",
       "    }\n",
       "\n",
       "    .dataframe thead th {\n",
       "        text-align: right;\n",
       "    }\n",
       "</style>\n",
       "<table border=\"1\" class=\"dataframe\">\n",
       "  <thead>\n",
       "    <tr style=\"text-align: right;\">\n",
       "      <th></th>\n",
       "      <th>cusip</th>\n",
       "      <th>cname</th>\n",
       "      <th>year</th>\n",
       "      <th>andate</th>\n",
       "      <th>meanest</th>\n",
       "      <th>eps</th>\n",
       "      <th>lasteps</th>\n",
       "      <th>sales</th>\n",
       "      <th>price</th>\n",
       "      <th>bigfirm</th>\n",
       "    </tr>\n",
       "  </thead>\n",
       "  <tbody>\n",
       "    <tr>\n",
       "      <th>0</th>\n",
       "      <td>30710</td>\n",
       "      <td>AAC HOLDINGS</td>\n",
       "      <td>2015</td>\n",
       "      <td>2/23/16</td>\n",
       "      <td>0.64</td>\n",
       "      <td>0.9700</td>\n",
       "      <td>0.4500</td>\n",
       "      <td>212.261</td>\n",
       "      <td>29.77</td>\n",
       "      <td>0</td>\n",
       "    </tr>\n",
       "    <tr>\n",
       "      <th>1</th>\n",
       "      <td>30710</td>\n",
       "      <td>AAC HOLDG</td>\n",
       "      <td>2016</td>\n",
       "      <td>2/27/17</td>\n",
       "      <td>0.95</td>\n",
       "      <td>0.7100</td>\n",
       "      <td>0.9700</td>\n",
       "      <td>279.770</td>\n",
       "      <td>16.99</td>\n",
       "      <td>0</td>\n",
       "    </tr>\n",
       "    <tr>\n",
       "      <th>2</th>\n",
       "      <td>30710</td>\n",
       "      <td>AAC HOLDG</td>\n",
       "      <td>2017</td>\n",
       "      <td>2/21/18</td>\n",
       "      <td>0.54</td>\n",
       "      <td>0.6000</td>\n",
       "      <td>0.7100</td>\n",
       "      <td>317.641</td>\n",
       "      <td>8.90</td>\n",
       "      <td>0</td>\n",
       "    </tr>\n",
       "    <tr>\n",
       "      <th>3</th>\n",
       "      <td>30710</td>\n",
       "      <td>AAC HOLDG</td>\n",
       "      <td>2018</td>\n",
       "      <td>4/16/19</td>\n",
       "      <td>0.74</td>\n",
       "      <td>-1.0600</td>\n",
       "      <td>0.6000</td>\n",
       "      <td>301.763</td>\n",
       "      <td>12.04</td>\n",
       "      <td>0</td>\n",
       "    </tr>\n",
       "    <tr>\n",
       "      <th>4</th>\n",
       "      <td>36020</td>\n",
       "      <td>AAON</td>\n",
       "      <td>2002</td>\n",
       "      <td>2/12/03</td>\n",
       "      <td>0.23</td>\n",
       "      <td>0.2094</td>\n",
       "      <td>0.2054</td>\n",
       "      <td>155.075</td>\n",
       "      <td>2.75</td>\n",
       "      <td>0</td>\n",
       "    </tr>\n",
       "    <tr>\n",
       "      <th>...</th>\n",
       "      <td>...</td>\n",
       "      <td>...</td>\n",
       "      <td>...</td>\n",
       "      <td>...</td>\n",
       "      <td>...</td>\n",
       "      <td>...</td>\n",
       "      <td>...</td>\n",
       "      <td>...</td>\n",
       "      <td>...</td>\n",
       "      <td>...</td>\n",
       "    </tr>\n",
       "    <tr>\n",
       "      <th>56147</th>\n",
       "      <td>Y9369110</td>\n",
       "      <td>VERIGY</td>\n",
       "      <td>2009</td>\n",
       "      <td>11/19/09</td>\n",
       "      <td>-1.09</td>\n",
       "      <td>-1.4900</td>\n",
       "      <td>1.1900</td>\n",
       "      <td>323.000</td>\n",
       "      <td>11.18</td>\n",
       "      <td>0</td>\n",
       "    </tr>\n",
       "    <tr>\n",
       "      <th>56148</th>\n",
       "      <td>Y9384M10</td>\n",
       "      <td>VTTI ENERGY</td>\n",
       "      <td>2015</td>\n",
       "      <td>2/9/16</td>\n",
       "      <td>0.86</td>\n",
       "      <td>0.4530</td>\n",
       "      <td>1.0700</td>\n",
       "      <td>289.700</td>\n",
       "      <td>23.96</td>\n",
       "      <td>0</td>\n",
       "    </tr>\n",
       "    <tr>\n",
       "      <th>56149</th>\n",
       "      <td>Y9384M10</td>\n",
       "      <td>VTTI ENERGY</td>\n",
       "      <td>2016</td>\n",
       "      <td>2/7/17</td>\n",
       "      <td>1.06</td>\n",
       "      <td>0.6000</td>\n",
       "      <td>0.4530</td>\n",
       "      <td>311.300</td>\n",
       "      <td>16.33</td>\n",
       "      <td>0</td>\n",
       "    </tr>\n",
       "    <tr>\n",
       "      <th>56150</th>\n",
       "      <td>Y9530810</td>\n",
       "      <td>WAVE LIFE</td>\n",
       "      <td>2017</td>\n",
       "      <td>3/12/18</td>\n",
       "      <td>-3.17</td>\n",
       "      <td>-3.8500</td>\n",
       "      <td>-2.4300</td>\n",
       "      <td>3.704</td>\n",
       "      <td>27.00</td>\n",
       "      <td>0</td>\n",
       "    </tr>\n",
       "    <tr>\n",
       "      <th>56151</th>\n",
       "      <td>Y9530810</td>\n",
       "      <td>WAVE LIFE</td>\n",
       "      <td>2018</td>\n",
       "      <td>3/1/19</td>\n",
       "      <td>-3.62</td>\n",
       "      <td>-5.0600</td>\n",
       "      <td>-3.8500</td>\n",
       "      <td>14.414</td>\n",
       "      <td>42.30</td>\n",
       "      <td>0</td>\n",
       "    </tr>\n",
       "  </tbody>\n",
       "</table>\n",
       "<p>56152 rows × 10 columns</p>\n",
       "</div>"
      ],
      "text/plain": [
       "          cusip         cname  year    andate  meanest     eps  lasteps  \\\n",
       "0         30710  AAC HOLDINGS  2015   2/23/16     0.64  0.9700   0.4500   \n",
       "1         30710     AAC HOLDG  2016   2/27/17     0.95  0.7100   0.9700   \n",
       "2         30710     AAC HOLDG  2017   2/21/18     0.54  0.6000   0.7100   \n",
       "3         30710     AAC HOLDG  2018   4/16/19     0.74 -1.0600   0.6000   \n",
       "4         36020          AAON  2002   2/12/03     0.23  0.2094   0.2054   \n",
       "...         ...           ...   ...       ...      ...     ...      ...   \n",
       "56147  Y9369110        VERIGY  2009  11/19/09    -1.09 -1.4900   1.1900   \n",
       "56148  Y9384M10   VTTI ENERGY  2015    2/9/16     0.86  0.4530   1.0700   \n",
       "56149  Y9384M10   VTTI ENERGY  2016    2/7/17     1.06  0.6000   0.4530   \n",
       "56150  Y9530810     WAVE LIFE  2017   3/12/18    -3.17 -3.8500  -2.4300   \n",
       "56151  Y9530810     WAVE LIFE  2018    3/1/19    -3.62 -5.0600  -3.8500   \n",
       "\n",
       "         sales  price  bigfirm  \n",
       "0      212.261  29.77        0  \n",
       "1      279.770  16.99        0  \n",
       "2      317.641   8.90        0  \n",
       "3      301.763  12.04        0  \n",
       "4      155.075   2.75        0  \n",
       "...        ...    ...      ...  \n",
       "56147  323.000  11.18        0  \n",
       "56148  289.700  23.96        0  \n",
       "56149  311.300  16.33        0  \n",
       "56150    3.704  27.00        0  \n",
       "56151   14.414  42.30        0  \n",
       "\n",
       "[56152 rows x 10 columns]"
      ]
     },
     "execution_count": 9,
     "metadata": {},
     "output_type": "execute_result"
    }
   ],
   "source": [
    "#View dataframe object\n",
    "df"
   ]
  },
  {
   "cell_type": "code",
   "execution_count": 15,
   "metadata": {},
   "outputs": [],
   "source": [
    "#Instantiate analyst variable for accuracy measure which is the difference between the \n",
    "#analyst prediction and the actual eps\n",
    "analyst = abs(df['meanest'] - df['eps']) / df['price']"
   ]
  },
  {
   "cell_type": "code",
   "execution_count": 16,
   "metadata": {},
   "outputs": [
    {
     "data": {
      "text/plain": [
       "0        0.011085\n",
       "1        0.014126\n",
       "2        0.006742\n",
       "3        0.149502\n",
       "4        0.007491\n",
       "           ...   \n",
       "56147    0.035778\n",
       "56148    0.016987\n",
       "56149    0.028169\n",
       "56150    0.025185\n",
       "56151    0.034043\n",
       "Length: 56152, dtype: float64"
      ]
     },
     "execution_count": 16,
     "metadata": {},
     "output_type": "execute_result"
    }
   ],
   "source": [
    "#Review analyst \n",
    "analyst"
   ]
  },
  {
   "cell_type": "code",
   "execution_count": 19,
   "metadata": {},
   "outputs": [],
   "source": [
    "#Instantiate analystMean variable\n",
    "analystMean = analyst.mean()"
   ]
  },
  {
   "cell_type": "code",
   "execution_count": 21,
   "metadata": {},
   "outputs": [
    {
     "data": {
      "text/plain": [
       "Ttest_1sampResult(statistic=35.252880749353324, pvalue=2.748292102587151e-269)"
      ]
     },
     "execution_count": 21,
     "metadata": {},
     "output_type": "execute_result"
    }
   ],
   "source": [
    "#Perform test to see if results are statistically different from zero, which they are since the p value is <.05\n",
    "st.ttest_1samp(analyst, 0)"
   ]
  },
  {
   "cell_type": "code",
   "execution_count": 26,
   "metadata": {},
   "outputs": [],
   "source": [
    "#Instantiate timeSeries variable for accuracy measure which is the last years eps minus the actual eps.\n",
    "timeSeries = abs(df['lasteps'] - df['eps']) / df['price']"
   ]
  },
  {
   "cell_type": "code",
   "execution_count": 27,
   "metadata": {},
   "outputs": [
    {
     "data": {
      "text/plain": [
       "0        0.017467\n",
       "1        0.015303\n",
       "2        0.012360\n",
       "3        0.137874\n",
       "4        0.001455\n",
       "           ...   \n",
       "56147    0.239714\n",
       "56148    0.025751\n",
       "56149    0.009002\n",
       "56150    0.052593\n",
       "56151    0.028605\n",
       "Length: 56152, dtype: float64"
      ]
     },
     "execution_count": 27,
     "metadata": {},
     "output_type": "execute_result"
    }
   ],
   "source": [
    "#Review timeSeries variable\n",
    "timeSeries"
   ]
  },
  {
   "cell_type": "code",
   "execution_count": 28,
   "metadata": {},
   "outputs": [],
   "source": [
    "#Instantiate timeSeriesMean variable\n",
    "timeSeriesMean = timeSeries.mean()"
   ]
  },
  {
   "cell_type": "code",
   "execution_count": 29,
   "metadata": {},
   "outputs": [
    {
     "data": {
      "text/plain": [
       "0.057447086818482936"
      ]
     },
     "execution_count": 29,
     "metadata": {},
     "output_type": "execute_result"
    }
   ],
   "source": [
    "#show result\n",
    "timeSeriesMean"
   ]
  },
  {
   "cell_type": "code",
   "execution_count": 30,
   "metadata": {},
   "outputs": [
    {
     "data": {
      "text/plain": [
       "Ttest_1sampResult(statistic=32.1064354248669, pvalue=3.875213907398835e-224)"
      ]
     },
     "execution_count": 30,
     "metadata": {},
     "output_type": "execute_result"
    }
   ],
   "source": [
    "#Perform test to see if results are statistically different from zero, which they are since the p value is <.05\n",
    "st.ttest_1samp(timeSeries, 0)"
   ]
  },
  {
   "cell_type": "code",
   "execution_count": 33,
   "metadata": {},
   "outputs": [],
   "source": [
    "#create a variable that is the difference between the previous two measures\n",
    "difference = analyst - timeSeries"
   ]
  },
  {
   "cell_type": "code",
   "execution_count": 34,
   "metadata": {},
   "outputs": [
    {
     "data": {
      "text/plain": [
       "0       -0.006382\n",
       "1       -0.001177\n",
       "2       -0.005618\n",
       "3        0.011628\n",
       "4        0.006036\n",
       "           ...   \n",
       "56147   -0.203936\n",
       "56148   -0.008765\n",
       "56149    0.019167\n",
       "56150   -0.027407\n",
       "56151    0.005437\n",
       "Length: 56152, dtype: float64"
      ]
     },
     "execution_count": 34,
     "metadata": {},
     "output_type": "execute_result"
    }
   ],
   "source": [
    "#output result\n",
    "difference"
   ]
  },
  {
   "cell_type": "code",
   "execution_count": 36,
   "metadata": {},
   "outputs": [],
   "source": [
    "#find the mean of the variable\n",
    "differenceMean = difference.mean()"
   ]
  },
  {
   "cell_type": "code",
   "execution_count": 37,
   "metadata": {},
   "outputs": [
    {
     "data": {
      "text/plain": [
       "-0.0184496737629759"
      ]
     },
     "execution_count": 37,
     "metadata": {},
     "output_type": "execute_result"
    }
   ],
   "source": [
    "differenceMean"
   ]
  },
  {
   "cell_type": "code",
   "execution_count": 38,
   "metadata": {},
   "outputs": [
    {
     "data": {
      "text/plain": [
       "Ttest_1sampResult(statistic=-14.232494530721254, pvalue=6.9227447534428155e-46)"
      ]
     },
     "execution_count": 38,
     "metadata": {},
     "output_type": "execute_result"
    }
   ],
   "source": [
    "#Perform test to see if results are statistically different from zero, which they are since the p value is <.05\n",
    "st.ttest_1samp(difference, 0)"
   ]
  }
 ],
 "metadata": {
  "kernelspec": {
   "display_name": "Python 3",
   "language": "python",
   "name": "python3"
  },
  "language_info": {
   "codemirror_mode": {
    "name": "ipython",
    "version": 3
   },
   "file_extension": ".py",
   "mimetype": "text/x-python",
   "name": "python",
   "nbconvert_exporter": "python",
   "pygments_lexer": "ipython3",
   "version": "3.8.8"
  }
 },
 "nbformat": 4,
 "nbformat_minor": 2
}
