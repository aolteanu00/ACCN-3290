{
 "cells": [
  {
   "cell_type": "markdown",
   "metadata": {},
   "source": [
    "# Event Study in Python\n",
    "This program contains the codes that can be used in testing market reaction and doing sample partition. Event_CS.csv include the following variable:\n",
    "-    **permno: security identifier**\n",
    "-    **conm: company name**\n",
    "-    **event_date: earnings announcement date**\n",
    "-    **partition_var1: whether reported earnings beat analyst forecast consensus**\n",
    "-    **partition_var2: whether firms report loss**"
   ]
  },
  {
   "cell_type": "markdown",
   "metadata": {},
   "source": [
    "### Part A: Clean Data"
   ]
  },
  {
   "cell_type": "markdown",
   "metadata": {},
   "source": [
    "**Loading pandas and dataset**"
   ]
  },
  {
   "cell_type": "code",
   "execution_count": null,
   "metadata": {},
   "outputs": [],
   "source": [
    "import pandas as pd\n",
    "import scipy.stats as st #Package for doing statistical test\n",
    "import matplotlib.pyplot as plt #Package for drawing pictures\n",
    "pd.options.mode.chained_assignment = None #Set off some pandas outputs"
   ]
  },
  {
   "cell_type": "code",
   "execution_count": null,
   "metadata": {},
   "outputs": [],
   "source": [
    "#Import event data\n",
    "event = pd.read_csv('Events_CS.csv',parse_dates = ['event_date'])\n",
    "event"
   ]
  },
  {
   "cell_type": "code",
   "execution_count": null,
   "metadata": {},
   "outputs": [],
   "source": [
    "#Duplicates check\n",
    "event=event.drop_duplicates()\n",
    "event"
   ]
  },
  {
   "cell_type": "code",
   "execution_count": null,
   "metadata": {},
   "outputs": [],
   "source": [
    "#Import stock price data\n",
    "stockprice = pd.read_csv('Crsp_2010_2020.csv',parse_dates = ['date','calendar_day'])"
   ]
  },
  {
   "cell_type": "markdown",
   "metadata": {},
   "source": [
    "- permno: security identifier\n",
    "- date: trading calendar day\n",
    "- calendar_day: trading calendar day\n",
    "- trading_day: trading day index\n",
    "- abnormal_ret: raw return adjusted for delisting return and market return"
   ]
  },
  {
   "cell_type": "markdown",
   "metadata": {},
   "source": [
    "**Preprocess dataset before merging**"
   ]
  },
  {
   "cell_type": "code",
   "execution_count": null,
   "metadata": {},
   "outputs": [],
   "source": [
    "#Filter Event Firms' Stock Price\n",
    "relatedsp=pd.merge(event, stockprice, how = 'left', on = 'permno')[['permno', 'date', 'abnormal_ret','calendar_day','trading_day']]"
   ]
  },
  {
   "cell_type": "code",
   "execution_count": null,
   "metadata": {},
   "outputs": [],
   "source": [
    "#Duplicate Repetitive Merge\n",
    "relatedsp=relatedsp.drop_duplicates()"
   ]
  },
  {
   "cell_type": "code",
   "execution_count": null,
   "metadata": {
    "scrolled": true
   },
   "outputs": [],
   "source": [
    "#Reset Index for Loop\n",
    "event=event.reset_index(drop=True)\n",
    "relatedsp=relatedsp.reset_index(drop=True)"
   ]
  },
  {
   "cell_type": "markdown",
   "metadata": {},
   "source": [
    "**Merge each event to the closest trading day**"
   ]
  },
  {
   "cell_type": "code",
   "execution_count": null,
   "metadata": {
    "scrolled": false
   },
   "outputs": [],
   "source": [
    "#This code is to loop over each event and match each event with the cloest trading day within [0,+7].\n",
    "event_trade_date = pd.DataFrame()\n",
    "for r in range(0,len(event)):\n",
    "    #Select event related price\n",
    "    relatedsp_temp=relatedsp[relatedsp['permno']==event.loc[r,\"permno\"]] \n",
    "    #Assign event date to a seperate variable\n",
    "    relatedsp_temp['event_date']=event.loc[r,'event_date'] \n",
    "    #Use the calendar_day minus event day\n",
    "    relatedsp_temp['relative_day']=(relatedsp_temp['calendar_day']-relatedsp_temp['event_date']).dt.days \n",
    "    #Select match within [0,+7]\n",
    "    relatedsp_temp=relatedsp_temp[(relatedsp_temp['relative_day']>=0)&(relatedsp_temp['relative_day']<=7)]\n",
    "    #Sort and filter the trading day with minimum day difference\n",
    "    relatedsp_temp=relatedsp_temp.sort_values(by = 'relative_day', ascending = True)\n",
    "    temp=relatedsp_temp.head(1)[['permno', 'event_date', 'trading_day']]\n",
    "    event_trade_date = event_trade_date.append(temp.head(1), ignore_index = True)\n",
    "    \n",
    "print(\"Number of Matched with CRSP:\",len(event_trade_date))\n",
    "event_trade_date.rename(columns={'trading_day':'event_trading_day'}, inplace=True)\n",
    "print(event_trade_date)"
   ]
  },
  {
   "cell_type": "markdown",
   "metadata": {},
   "source": [
    "**Collect event window [-5,10] trading data**"
   ]
  },
  {
   "cell_type": "code",
   "execution_count": null,
   "metadata": {
    "scrolled": true
   },
   "outputs": [],
   "source": [
    "#This code is to assign the 16 trading days around the event date, and transform each trading day to an event day.\n",
    "\n",
    "#Merge the event with event_trading_day to price dataset \n",
    "event_price=pd.merge(event_trade_date, relatedsp, how = 'left', on = ['permno'])\n",
    "#Calculate the trading day difference\n",
    "event_price['event_day']=event_price['trading_day']-event_price['event_trading_day']\n",
    "#Filter by graph window [-5,+10]\n",
    "event_price=event_price[(event_price['event_day']<=10) & (event_price['event_day']>=-5)]\n",
    "#Sort variable\n",
    "event_price=event_price.sort_values(by = ['permno','event_date','event_day'], ascending = True)\n",
    "event_price=event_price[['permno', 'event_date', 'calendar_day','trading_day','event_day','abnormal_ret']]\n",
    "event_price.head(16)"
   ]
  },
  {
   "cell_type": "markdown",
   "metadata": {},
   "source": [
    "**Delete events without sufficient trading data**"
   ]
  },
  {
   "cell_type": "code",
   "execution_count": null,
   "metadata": {
    "scrolled": true
   },
   "outputs": [],
   "source": [
    "event_price = event_price[event_price.groupby(['permno','event_date']).event_day.transform(len) ==16]"
   ]
  },
  {
   "cell_type": "markdown",
   "metadata": {},
   "source": [
    "**Combine original data**"
   ]
  },
  {
   "cell_type": "code",
   "execution_count": null,
   "metadata": {},
   "outputs": [],
   "source": [
    "temp1=pd.merge(event, event_price, how = 'left', on = ['permno','event_date'])"
   ]
  },
  {
   "cell_type": "markdown",
   "metadata": {},
   "source": [
    "**Generate cumulative return**"
   ]
  },
  {
   "cell_type": "code",
   "execution_count": null,
   "metadata": {},
   "outputs": [],
   "source": [
    "#For graphing, we need a longer window of [-5,10]\n",
    "\n",
    "#Keep price data within window\n",
    "graph_sample=temp1[(temp1['event_day']<=10) & (temp1['event_day']>=-5)] \n",
    "graph_sample\n",
    "#Cumulatively sum the return\n",
    "graph_sample['car'] = graph_sample.groupby(['permno','event_date'])['abnormal_ret'].apply(lambda x: x.cumsum()) \n",
    "graph_sample.shape"
   ]
  },
  {
   "cell_type": "code",
   "execution_count": null,
   "metadata": {},
   "outputs": [],
   "source": [
    "#For testing, we need a shorter window of [-1,1]\n",
    "\n",
    "#Keep price data within window\n",
    "test_sample=temp1[(temp1['event_day']<=1) & (temp1['event_day']>=-1)]\n",
    "#Cumulatively sum the return\n",
    "test_sample['car'] = test_sample.groupby(['permno','event_date'])['abnormal_ret'].apply(lambda x: x.cumsum()) \n",
    "#Keep only one CAR observation for each event\n",
    "test_sample=test_sample[test_sample['event_day']==1]\n",
    "test_sample.shape"
   ]
  },
  {
   "cell_type": "markdown",
   "metadata": {},
   "source": [
    "### Part B: Event Study Graph and Statistic Test"
   ]
  },
  {
   "cell_type": "markdown",
   "metadata": {},
   "source": [
    "**Draw event study graph**"
   ]
  },
  {
   "cell_type": "code",
   "execution_count": null,
   "metadata": {},
   "outputs": [],
   "source": [
    "mean_ar=graph_sample.groupby('event_day')['car'].mean()\n",
    "plt.plot(mean_ar)"
   ]
  },
  {
   "cell_type": "markdown",
   "metadata": {},
   "source": [
    "**Statistical test**"
   ]
  },
  {
   "cell_type": "code",
   "execution_count": null,
   "metadata": {},
   "outputs": [],
   "source": [
    "#Print average car\n",
    "print(test_sample['car'].mean())\n",
    "#Do the test and print t and p values\n",
    "t, p = st.ttest_1samp(test_sample['car'], 0)\n",
    "print(\"ttest_1samp_stats: t = %.3f  p = %.3f\" % (t, p))"
   ]
  },
  {
   "cell_type": "markdown",
   "metadata": {},
   "source": [
    "### Part C: Sample Partition"
   ]
  },
  {
   "cell_type": "markdown",
   "metadata": {},
   "source": [
    "**Partition graph**"
   ]
  },
  {
   "cell_type": "code",
   "execution_count": null,
   "metadata": {},
   "outputs": [],
   "source": [
    "#Split the sample based on partition variable\n",
    "group1=graph_sample[graph_sample['partition_var1']==0]\n",
    "group2=graph_sample[graph_sample['partition_var1']==1]"
   ]
  },
  {
   "cell_type": "code",
   "execution_count": null,
   "metadata": {},
   "outputs": [],
   "source": [
    "#Draw picture for group 1\n",
    "mean_ar=group1.groupby('event_day')['car'].mean()\n",
    "plt.plot(mean_ar)"
   ]
  },
  {
   "cell_type": "code",
   "execution_count": null,
   "metadata": {
    "scrolled": true
   },
   "outputs": [],
   "source": [
    "#Draw picture for group 2\n",
    "mean_ar=group2.groupby('event_day')['car'].mean()\n",
    "plt.plot(mean_ar)"
   ]
  },
  {
   "cell_type": "markdown",
   "metadata": {},
   "source": [
    "**Test market reaction for each group**"
   ]
  },
  {
   "cell_type": "code",
   "execution_count": null,
   "metadata": {},
   "outputs": [],
   "source": [
    "#Split the sample based on partition variable\n",
    "group1=test_sample[test_sample['partition_var1']==0]\n",
    "group2=test_sample[test_sample['partition_var1']==1]"
   ]
  },
  {
   "cell_type": "code",
   "execution_count": null,
   "metadata": {},
   "outputs": [],
   "source": [
    "#Average Car for group 1\n",
    "print(\"Average Market Reaction: car = %.3f\" % group1['car'].mean())"
   ]
  },
  {
   "cell_type": "code",
   "execution_count": null,
   "metadata": {},
   "outputs": [],
   "source": [
    "#Average Car for group 2\n",
    "print(\"Average Market Reaction: car = %.3f\" % group2['car'].mean())"
   ]
  },
  {
   "cell_type": "code",
   "execution_count": null,
   "metadata": {},
   "outputs": [],
   "source": [
    "#Test the difference across group\n",
    "\n",
    "#Two sample test\n",
    "t,p=st.ttest_ind(group1['car'], group2['car'])\n",
    "print(\"Comparing Two Groups' Car: t = %.3f  p = %.3f\" % (t, p))\n"
   ]
  },
  {
   "cell_type": "code",
   "execution_count": null,
   "metadata": {},
   "outputs": [],
   "source": []
  }
 ],
 "metadata": {
  "kernelspec": {
   "display_name": "Python 3 (ipykernel)",
   "language": "python",
   "name": "python3"
  },
  "language_info": {
   "codemirror_mode": {
    "name": "ipython",
    "version": 3
   },
   "file_extension": ".py",
   "mimetype": "text/x-python",
   "name": "python",
   "nbconvert_exporter": "python",
   "pygments_lexer": "ipython3",
   "version": "3.9.7"
  }
 },
 "nbformat": 4,
 "nbformat_minor": 2
}
