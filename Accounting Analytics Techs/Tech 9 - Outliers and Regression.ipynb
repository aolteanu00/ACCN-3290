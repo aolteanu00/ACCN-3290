{
 "cells": [
  {
   "cell_type": "markdown",
   "metadata": {},
   "source": [
    "----------\n",
    "# Tech 9 - Outliers and Regression\n",
    "_______"
   ]
  },
  {
   "cell_type": "markdown",
   "metadata": {},
   "source": [
    "## Load Relevant Packages and Dependencies\n",
    "\n",
    "-------"
   ]
  },
  {
   "cell_type": "markdown",
   "metadata": {},
   "source": [
    "Set up the environment, load packages and dependencies."
   ]
  },
  {
   "cell_type": "code",
   "execution_count": null,
   "metadata": {},
   "outputs": [],
   "source": [
    "# database tool\n",
    "import pandas as pd \n",
    "import numpy as np \n",
    "\n",
    "#new package for linear regression\n",
    "import statsmodels.formula.api as smf\n",
    "\n",
    "# disable an unneeded warning\n",
    "pd.options.mode.chained_assignment = None  # default='warn'\n",
    "\n",
    "# make numbers display better\n",
    "pd.options.display.float_format = '{:,.3f}'.format"
   ]
  },
  {
   "cell_type": "code",
   "execution_count": null,
   "metadata": {},
   "outputs": [],
   "source": [
    "# Import Yellow Cab visualization data from 2020\n",
    "df_2020 = pd.read_csv(\"cab2020_visualization.csv\")"
   ]
  },
  {
   "cell_type": "code",
   "execution_count": null,
   "metadata": {},
   "outputs": [],
   "source": [
    "# check shape\n",
    "df_2020.shape"
   ]
  },
  {
   "cell_type": "markdown",
   "metadata": {},
   "source": [
    "## Deal with outliers"
   ]
  },
  {
   "cell_type": "markdown",
   "metadata": {},
   "source": [
    "### Using reasonable judgement to identify outliers"
   ]
  },
  {
   "cell_type": "markdown",
   "metadata": {},
   "source": [
    "Most of the very high cost trips are probably errors or uninteresting since they took very few seconds and went very few miles. For example, it does not seem plausible that a $8,000 cab fare took went about 0 miles and took about 0 seconds. "
   ]
  },
  {
   "cell_type": "markdown",
   "metadata": {},
   "source": [
    "Let's correct this by eliminating rows with unusually high dollars per second (i.e., trip with unreasonably low seconds but high payment)."
   ]
  },
  {
   "cell_type": "code",
   "execution_count": null,
   "metadata": {},
   "outputs": [],
   "source": [
    "df_2020['dollar_per_sec'] = df_2020['fare'] / df_2020['trip_seconds']\n",
    "\n",
    "# looking at the summary statistics of just this new variable\n",
    "df_2020['dollar_per_sec'].describe()"
   ]
  },
  {
   "cell_type": "code",
   "execution_count": null,
   "metadata": {},
   "outputs": [],
   "source": [
    "# looking at more percentiles\n",
    "df_2020['dollar_per_sec'].quantile(0.99)"
   ]
  },
  {
   "cell_type": "code",
   "execution_count": null,
   "metadata": {},
   "outputs": [],
   "source": [
    "# drop those with a 1.00 per second or more\n",
    "df_2020 = df_2020[df_2020['dollar_per_sec']<1]\n",
    "df_2020.shape"
   ]
  },
  {
   "cell_type": "code",
   "execution_count": null,
   "metadata": {},
   "outputs": [],
   "source": [
    "df_2020['dollar_per_sec'].describe()"
   ]
  },
  {
   "cell_type": "markdown",
   "metadata": {},
   "source": [
    "## Linear Regression\n",
    "----------\n",
    "We want to investigate how `fare` and `tips` (two Y variables) are related to `trip_seconds`, `trip_miles`, `month`, `hour`, and `day`."
   ]
  },
  {
   "cell_type": "code",
   "execution_count": null,
   "metadata": {},
   "outputs": [],
   "source": [
    "df_2020['dayofweek'] = pd.DatetimeIndex(df_2020['startdatetime']).dayofweek\n",
    "df_2020.head()"
   ]
  },
  {
   "cell_type": "code",
   "execution_count": null,
   "metadata": {},
   "outputs": [],
   "source": [
    "results_fare = smf.ols('fare ~ trip_seconds + trip_miles + StartHour + StartMonth + dayofweek', data=df_2020).fit()\n",
    "results_fare.summary()"
   ]
  },
  {
   "cell_type": "code",
   "execution_count": null,
   "metadata": {},
   "outputs": [],
   "source": [
    "results_tips = smf.ols('tips ~ trip_seconds + trip_miles + StartHour + StartMonth + dayofweek', data=df_2020).fit()\n",
    "results_tips.summary()"
   ]
  }
 ],
 "metadata": {
  "kernelspec": {
   "display_name": "Python 3 (ipykernel)",
   "language": "python",
   "name": "python3"
  },
  "language_info": {
   "codemirror_mode": {
    "name": "ipython",
    "version": 3
   },
   "file_extension": ".py",
   "mimetype": "text/x-python",
   "name": "python",
   "nbconvert_exporter": "python",
   "pygments_lexer": "ipython3",
   "version": "3.9.7"
  }
 },
 "nbformat": 4,
 "nbformat_minor": 2
}
