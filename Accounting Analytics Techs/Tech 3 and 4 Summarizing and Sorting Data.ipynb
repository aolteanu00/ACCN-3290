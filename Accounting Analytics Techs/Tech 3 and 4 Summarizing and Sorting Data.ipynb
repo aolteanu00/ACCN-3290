{
 "cells": [
  {
   "cell_type": "markdown",
   "metadata": {},
   "source": [
    "# Tech #3 Summarizing and Sorting Data"
   ]
  },
  {
   "cell_type": "markdown",
   "metadata": {},
   "source": [
    "- This file builds on the code from Tech #2 and illustrates how to summarize and sort data.\n",
    "- Please follow the instruction on top of each empty cell. Although we already typed in the codes from Tech #2, you still need to execute them one by one. You can execute the cell by clicking \"Run\". "
   ]
  },
  {
   "cell_type": "markdown",
   "metadata": {},
   "source": [
    "---\n",
    "## Code from Tech #2 Loading and Navigating Data\n",
    "---\n",
    "Additional note: In the code cell, if you start the line with a # key, you will be creating comments. You can use these comments to help your audience to understand your code. Python will ignore the comments when executing the code. "
   ]
  },
  {
   "cell_type": "markdown",
   "metadata": {},
   "source": [
    "**Step 1: Import pandas package**"
   ]
  },
  {
   "cell_type": "code",
   "execution_count": null,
   "metadata": {},
   "outputs": [],
   "source": [
    "import pandas as pd"
   ]
  },
  {
   "cell_type": "markdown",
   "metadata": {},
   "source": [
    "**Step 2: Load the dataset**"
   ]
  },
  {
   "cell_type": "code",
   "execution_count": null,
   "metadata": {},
   "outputs": [],
   "source": [
    "df = pd.read_csv('Compustat_fy2019.csv', parse_dates = ['datadate'])\n",
    "#A new parameter in the parentheses to have python automatically parse a date variable. "
   ]
  },
  {
   "cell_type": "markdown",
   "metadata": {},
   "source": [
    "*Note 1: Difference from Excel*  \n",
    "In python, we don't work directly on the dataset itself. Python creates a temporary file in your computer's memory when loading a dataset. All the manipulation procedures will be performed on the temporary file and won't change your original dataset.  \n",
    "\n",
    "*Note 2: File Directory*  \n",
    "We only include the dataset filename (i.e., Compustat_fy2019.csv) here because this dataset is kept in the same folder as the opened Jupyter Notebook. Python takes the folder from which this notebook is opened as the default folder. But if you save your dataset in a different folder, you need to specify the full file path for Python to access it.   "
   ]
  },
  {
   "cell_type": "markdown",
   "metadata": {},
   "source": [
    "**Step 3: Navigate the dataset**"
   ]
  },
  {
   "cell_type": "code",
   "execution_count": null,
   "metadata": {},
   "outputs": [],
   "source": [
    "df.head()\n",
    "#Leaving the parameter empty gives you top five observations by default."
   ]
  },
  {
   "cell_type": "code",
   "execution_count": null,
   "metadata": {},
   "outputs": [],
   "source": [
    "df.tail()\n",
    "#Returning the last five observations."
   ]
  },
  {
   "cell_type": "markdown",
   "metadata": {},
   "source": [
    "---\n",
    "# New code to learn in this class\n",
    "---"
   ]
  },
  {
   "cell_type": "markdown",
   "metadata": {},
   "source": [
    "## Summarizing data\n",
    "---\n",
    "What's important for us to know about the data before we perform any analysis?\n",
    "- How many observations are there?\n",
    "- How many variables are there? What are those variables?\n",
    "- What is the average of a certain variable? \n",
    "- ..."
   ]
  },
  {
   "cell_type": "markdown",
   "metadata": {},
   "source": [
    "### Returning the index of the dataset\n",
    "```Python\n",
    "df.index\n",
    "```\n",
    "- An index is an identifier for a row. By default, the index starts from 0 to (#rows - 1).\n",
    "- You can use the index to refer to the rows you need. Just like you can use a name to call someone."
   ]
  },
  {
   "cell_type": "code",
   "execution_count": null,
   "metadata": {},
   "outputs": [],
   "source": []
  },
  {
   "cell_type": "markdown",
   "metadata": {},
   "source": [
    "### Returning the columns of the dataset\n",
    "```Python\n",
    "df.columns\n",
    "```"
   ]
  },
  {
   "cell_type": "code",
   "execution_count": null,
   "metadata": {},
   "outputs": [],
   "source": []
  },
  {
   "cell_type": "markdown",
   "metadata": {},
   "source": [
    "### Returning the shape of the dataset\n",
    "```Python\n",
    "df.shape\n",
    "```\n",
    "- No parentheses after shape because this is a value and not a function. You can think of it as already a parameter describing the shape of the data.\n",
    "- The returning result is (#rows, #columns), or in other words, (#observations, #variables)."
   ]
  },
  {
   "cell_type": "code",
   "execution_count": null,
   "metadata": {},
   "outputs": [],
   "source": []
  },
  {
   "cell_type": "markdown",
   "metadata": {},
   "source": [
    "### Returninig summary statistics of the numerical variables\n",
    "```Python\n",
    "df.describe()\n",
    "```\n",
    "- Summary statistics could include the number of observations (count), the average (mean), the standard deviation (std), the minimum (min), the maximum (max), and the values at different percentiles."
   ]
  },
  {
   "cell_type": "code",
   "execution_count": null,
   "metadata": {},
   "outputs": [],
   "source": [
    "df.describe()"
   ]
  },
  {
   "cell_type": "markdown",
   "metadata": {},
   "source": [
    "## Sorting data\n",
    "---"
   ]
  },
  {
   "cell_type": "markdown",
   "metadata": {},
   "source": [
    "### Sorting on one variable\n",
    "```Python\n",
    "df.sort_values(by = 'at', ascending = False)\n",
    "```\n",
    "- Sort the observations based on certain variables, in this example, total assets.\n",
    "- Speficy whether you want to start from the smallest to the largest (ascending), or the other way around (descending).\n",
    "- In this example, we sort the observations based on the observation's total assets in a descending manner.  "
   ]
  },
  {
   "cell_type": "code",
   "execution_count": null,
   "metadata": {},
   "outputs": [],
   "source": []
  },
  {
   "cell_type": "markdown",
   "metadata": {},
   "source": [
    "### Sorting on multiple variables\n",
    "```Python\n",
    "df.sort_values(by = ['datadate','at'], ascending = [True, False])\n",
    "```\n",
    "- In this example, we first sort the data based on the fiscal year end (starting from the earliest). And then, within firms that have the same fiscal year end, we sort them based on the total assets (starting from the highest)."
   ]
  },
  {
   "cell_type": "code",
   "execution_count": null,
   "metadata": {},
   "outputs": [],
   "source": []
  },
  {
   "cell_type": "markdown",
   "metadata": {},
   "source": [
    "## Online support\n",
    "- [Pandas Documentation：An official guide](https://pandas.pydata.org/pandas-docs/stable/reference/api/pandas.DataFrame.sort_values.html)\n",
    "- [Stack Overflow: A question and answer site for programmers](https://stackoverflow.com/questions/37787698/how-to-sort-pandas-dataframe-from-one-column)\n",
    "- Just Google! You will be surprised how many people have had the same problems as yours!"
   ]
  },
  {
   "cell_type": "markdown",
   "metadata": {},
   "source": [
    "---\n",
    "# Quiz\n",
    "---\n",
    "Please load the dataset \"Compustat_fy2019.csv\" and use the functions we learned to answer the following questions. You can run the code in below empty cells and fill the answers in Canvas quiz. \n",
    "\n",
    "**1. What is the net income for 29th observation of \"Compustat_fy2019.csv\" (AMERICAN EXPRESS CO)?** \n",
    "\n",
    "**2. Among companies listed in NASDAQ, which company has the largest total equities according to the dataset?**  \n",
    "Note: companies listed in NASDAQ has an exchange code of 14.  \n",
    "(This data set includes companies listed in three exchanges. They are New York Stock Exchange (11), American Stock Exchange (12), NASDAQ (14).  \n",
    "\n",
    "**3. What's the index for the company that you found in question 2?** \n"
   ]
  },
  {
   "cell_type": "code",
   "execution_count": null,
   "metadata": {},
   "outputs": [],
   "source": []
  },
  {
   "cell_type": "code",
   "execution_count": null,
   "metadata": {},
   "outputs": [],
   "source": []
  },
  {
   "cell_type": "code",
   "execution_count": null,
   "metadata": {},
   "outputs": [],
   "source": []
  },
  {
   "cell_type": "code",
   "execution_count": null,
   "metadata": {},
   "outputs": [],
   "source": []
  },
  {
   "cell_type": "code",
   "execution_count": null,
   "metadata": {},
   "outputs": [],
   "source": []
  },
  {
   "cell_type": "code",
   "execution_count": null,
   "metadata": {},
   "outputs": [],
   "source": []
  },
  {
   "cell_type": "code",
   "execution_count": null,
   "metadata": {},
   "outputs": [],
   "source": []
  },
  {
   "cell_type": "code",
   "execution_count": null,
   "metadata": {},
   "outputs": [],
   "source": []
  },
  {
   "cell_type": "code",
   "execution_count": null,
   "metadata": {},
   "outputs": [],
   "source": []
  },
  {
   "cell_type": "code",
   "execution_count": null,
   "metadata": {},
   "outputs": [],
   "source": []
  }
 ],
 "metadata": {
  "kernelspec": {
   "display_name": "Python 3",
   "language": "python",
   "name": "python3"
  },
  "language_info": {
   "codemirror_mode": {
    "name": "ipython",
    "version": 3
   },
   "file_extension": ".py",
   "mimetype": "text/x-python",
   "name": "python",
   "nbconvert_exporter": "python",
   "pygments_lexer": "ipython3",
   "version": "3.8.5"
  }
 },
 "nbformat": 4,
 "nbformat_minor": 2
}
