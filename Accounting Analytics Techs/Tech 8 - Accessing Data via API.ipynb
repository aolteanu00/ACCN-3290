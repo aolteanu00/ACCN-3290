{
 "cells": [
  {
   "cell_type": "markdown",
   "metadata": {},
   "source": [
    "----------\n",
    "# Cab Consulting Preparation\n",
    "_______"
   ]
  },
  {
   "cell_type": "markdown",
   "metadata": {},
   "source": [
    "## Author Information\n",
    "Jessen Hobson, Ph.D. </br>\n",
    "Associate Professor of Accountancy </br> \n",
    "R.C. Evans Data Analytics Fellow </br>\n",
    "University of Illinois at Urbana-Champaign\n",
    "\n",
    "### Adapted by:\n",
    "Jake Krupa, Ph.D., CPA </br>\n",
    "Assistant Professor of Accounting </br> \n",
    "A.B. Freeman School of Business </br>\n",
    "Tulane University"
   ]
  },
  {
   "cell_type": "markdown",
   "metadata": {},
   "source": [
    "## Case Background\n",
    "Yellow Cab Chicago has hired your small accounting and consulting firm to help them shave costs and increase revenues. Like many traditional cab companies, Yellow Cab is feeling significant pressure from ride-hailing companies Yellow Cab Chicago is a hypothetical cab sharing company that wants to reduce costs and increase revenues. Like many traditional cab companies, Yellow Cab is feeling significant pressure from ride-hailing companies like Lyft and Uber. Your assignment is to use an authentic, existing data set to better understand the situation Yellow Cab is facing and to investigate potential revenue opportunities.\n",
    " \n",
    "-------"
   ]
  },
  {
   "cell_type": "markdown",
   "metadata": {},
   "source": [
    "## Load Relevant Packages and Dependencies\n",
    "\n",
    "-------"
   ]
  },
  {
   "cell_type": "markdown",
   "metadata": {},
   "source": [
    "Set up the environment, load packages and dependencies."
   ]
  },
  {
   "cell_type": "code",
   "execution_count": null,
   "metadata": {},
   "outputs": [],
   "source": [
    "# packages we know\n",
    "import pandas as pd \n",
    "import numpy as np \n",
    "\n",
    "# for use with API to get data - need to pip3 install it\n",
    "from sodapy import Socrata \n",
    "\n",
    "# disable an unneeded warning\n",
    "pd.options.mode.chained_assignment = None  # default='warn'"
   ]
  },
  {
   "cell_type": "markdown",
   "metadata": {},
   "source": [
    "### Retrieve Data\n",
    "Load through data.cityofchicago.org using their API. E.g., https://data.cityofchicago.org/Transportation/Taxi-Trips/wrvz-psew"
   ]
  },
  {
   "cell_type": "code",
   "execution_count": null,
   "metadata": {},
   "outputs": [],
   "source": [
    "# App token - something needed for multiple requests from an API, do not overuse this\n",
    "MyAppToken=\"J1pdc11pinLHhRMnrhgItLRqO\"\n",
    "client = Socrata(\"data.cityofchicago.org/\",\n",
    "                  MyAppToken,\n",
    "                  username=\"jkrupa@tulane.edu\",\n",
    "                  password=\"HIDDEN\")\n",
    "\n",
    "# the \".get\" function returns data as JSON from API, then converted to\n",
    "# Python list of dictionaries by sodapy. We then convert that to pandas df.\n",
    "# h4cq-z3dy is dataset for 2019\n",
    "# r2u4-wwk3 is dataset for 2020\n",
    "# wrvz-psew is for all years - not responsive\n",
    "\n",
    "results = client.get(\"h4cq-z3dy\", limit=20)\n",
    "\n",
    "# Convert to pandas DataFrame\n",
    "df = pd.DataFrame.from_records(results)\n",
    "df.shape"
   ]
  },
  {
   "cell_type": "code",
   "execution_count": null,
   "metadata": {},
   "outputs": [],
   "source": [
    "df.columns"
   ]
  },
  {
   "cell_type": "markdown",
   "metadata": {},
   "source": [
    "Save data as a CSV file so that you can save and return to your work without having to use an application token in the API."
   ]
  },
  {
   "cell_type": "code",
   "execution_count": null,
   "metadata": {},
   "outputs": [],
   "source": [
    "# Name data file\n",
    "file = 'cab_data2019.csv' "
   ]
  },
  {
   "cell_type": "code",
   "execution_count": null,
   "metadata": {},
   "outputs": [],
   "source": [
    "# Export file for later use\n",
    "df.to_csv(file, index = False)"
   ]
  },
  {
   "cell_type": "code",
   "execution_count": null,
   "metadata": {},
   "outputs": [],
   "source": [
    "# Load data for use\n",
    "df2019=pd.read_csv(file)"
   ]
  },
  {
   "cell_type": "markdown",
   "metadata": {},
   "source": [
    "## Write your own code to do the same and save the 2,000,000 rows of 2020 data"
   ]
  },
  {
   "cell_type": "code",
   "execution_count": null,
   "metadata": {},
   "outputs": [],
   "source": []
  },
  {
   "cell_type": "code",
   "execution_count": null,
   "metadata": {},
   "outputs": [],
   "source": []
  },
  {
   "cell_type": "code",
   "execution_count": null,
   "metadata": {},
   "outputs": [],
   "source": []
  },
  {
   "cell_type": "code",
   "execution_count": null,
   "metadata": {},
   "outputs": [],
   "source": []
  },
  {
   "cell_type": "code",
   "execution_count": null,
   "metadata": {},
   "outputs": [],
   "source": []
  }
 ],
 "metadata": {
  "kernelspec": {
   "display_name": "Python 3 (ipykernel)",
   "language": "python",
   "name": "python3"
  },
  "language_info": {
   "codemirror_mode": {
    "name": "ipython",
    "version": 3
   },
   "file_extension": ".py",
   "mimetype": "text/x-python",
   "name": "python",
   "nbconvert_exporter": "python",
   "pygments_lexer": "ipython3",
   "version": "3.9.7"
  }
 },
 "nbformat": 4,
 "nbformat_minor": 2
}
