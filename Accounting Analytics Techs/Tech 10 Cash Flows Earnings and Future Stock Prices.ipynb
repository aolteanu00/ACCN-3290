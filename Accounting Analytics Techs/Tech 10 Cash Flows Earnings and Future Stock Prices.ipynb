{
 "cells": [
  {
   "cell_type": "markdown",
   "metadata": {},
   "source": [
    "# Cash Flows, Earnings, and Future Stock Prices\n",
    "- This program illustrates how to examine the correlation between two performance measures and future stock prices.\n",
    "- The dataset, *compustat_earnings_00_19.csv*, includes total net incomes (*ni*), total net operating cash flows (*oancf*), market value (*mkvalt*), and the number of shares outstanding (*csho*) for each firm (*gvkey*) year (*fyear*) between 2000 and 2019.\n",
    "\n",
    "Please run the following lines of code and answer questions 1, 2, nad 3. Please write down your explanations in the empty markdown cell below each question, or add new cells and answer them there. \n",
    "- **Each group only has to submit one file.**\n",
    "- There are some new codes that we haven't studied in the previous classes. For those codes, please try your best to figure out what those codes do by searching through the online resources or asking me if you have questions."
   ]
  },
  {
   "cell_type": "markdown",
   "metadata": {},
   "source": [
    "**Loading pandas and dataset**"
   ]
  },
  {
   "cell_type": "code",
   "execution_count": null,
   "metadata": {},
   "outputs": [],
   "source": [
    "import pandas as pd\n",
    "pd.set_option('display.float_format', lambda x: '%.3f' % x)\n",
    "df = pd.read_csv('compustat_earnings_00_19.csv')"
   ]
  },
  {
   "cell_type": "markdown",
   "metadata": {},
   "source": [
    "**Creating per-share variables**"
   ]
  },
  {
   "cell_type": "markdown",
   "metadata": {},
   "source": [
    "**Question 1**: Explain the three lines of code below:"
   ]
  },
  {
   "cell_type": "markdown",
   "metadata": {},
   "source": [
    "(1)\n",
    "\n",
    "(2)\n",
    "\n",
    "(3)"
   ]
  },
  {
   "cell_type": "code",
   "execution_count": null,
   "metadata": {},
   "outputs": [],
   "source": [
    "df['price'] = df['mkvalt'] / df['csho']"
   ]
  },
  {
   "cell_type": "code",
   "execution_count": null,
   "metadata": {},
   "outputs": [],
   "source": [
    "df['ni_ps'] =  df['ni'] / df['csho']"
   ]
  },
  {
   "cell_type": "code",
   "execution_count": null,
   "metadata": {},
   "outputs": [],
   "source": [
    "df['oancf_ps'] =  df['oancf'] / df['csho']"
   ]
  },
  {
   "cell_type": "markdown",
   "metadata": {},
   "source": [
    "---"
   ]
  },
  {
   "cell_type": "markdown",
   "metadata": {},
   "source": [
    "**Merging prices from next year**"
   ]
  },
  {
   "cell_type": "markdown",
   "metadata": {},
   "source": [
    "**Question 2**: Explain the four lines of code below:"
   ]
  },
  {
   "cell_type": "markdown",
   "metadata": {},
   "source": [
    "(1)\n",
    "\n",
    "(2)\n",
    "\n",
    "(3)\n",
    "\n",
    "(4)"
   ]
  },
  {
   "cell_type": "code",
   "execution_count": null,
   "metadata": {},
   "outputs": [],
   "source": [
    "df_f = df[['gvkey', 'fyear', 'price']]"
   ]
  },
  {
   "cell_type": "code",
   "execution_count": null,
   "metadata": {},
   "outputs": [],
   "source": [
    "df_f = df_f.assign(fyear = df_f['fyear'] - 1)"
   ]
  },
  {
   "cell_type": "code",
   "execution_count": null,
   "metadata": {},
   "outputs": [],
   "source": [
    "df_f.rename(columns={'price':'price_f'}, inplace=True)"
   ]
  },
  {
   "cell_type": "code",
   "execution_count": null,
   "metadata": {
    "scrolled": true
   },
   "outputs": [],
   "source": [
    "df1 = pd.merge(df, df_f, how = 'inner', on = ['gvkey','fyear'])"
   ]
  },
  {
   "cell_type": "markdown",
   "metadata": {},
   "source": [
    "---"
   ]
  },
  {
   "cell_type": "markdown",
   "metadata": {},
   "source": [
    "**Excluding outliers**"
   ]
  },
  {
   "cell_type": "code",
   "execution_count": null,
   "metadata": {
    "scrolled": false
   },
   "outputs": [],
   "source": [
    "df2 = df1"
   ]
  },
  {
   "cell_type": "code",
   "execution_count": null,
   "metadata": {},
   "outputs": [],
   "source": [
    "lb = (df2['ni_ps'] > df1['ni_ps'].quantile(0.01))\n",
    "ub = (df2['ni_ps'] < df1['ni_ps'].quantile(0.99))\n",
    "df2 = df2[lb & ub]\n",
    "print(df2.shape)"
   ]
  },
  {
   "cell_type": "code",
   "execution_count": null,
   "metadata": {},
   "outputs": [],
   "source": [
    "lb = (df2['oancf_ps'] > df1['oancf_ps'].quantile(0.01))\n",
    "ub = (df2['oancf_ps'] < df1['oancf_ps'].quantile(0.99))\n",
    "df2 = df2[lb & ub]\n",
    "print(df2.shape)"
   ]
  },
  {
   "cell_type": "code",
   "execution_count": null,
   "metadata": {},
   "outputs": [],
   "source": [
    "lb = (df2['price_f'] > df1['price_f'].quantile(0.01))\n",
    "ub = (df2['price_f'] < df1['price_f'].quantile(0.99))\n",
    "df2 = df2[lb & ub]\n",
    "print(df2.shape)"
   ]
  },
  {
   "cell_type": "markdown",
   "metadata": {},
   "source": [
    "**Question 3**: The below code is equivalent to the codes above (four cells). Can you search online to understand how to use \"for loop\" in Python (e.g., https://beginnersbook.com/2018/01/python-for-loop/) and then explain the code below?"
   ]
  },
  {
   "cell_type": "markdown",
   "metadata": {},
   "source": [
    "You answer:"
   ]
  },
  {
   "cell_type": "code",
   "execution_count": null,
   "metadata": {
    "scrolled": true
   },
   "outputs": [],
   "source": [
    "df2 = df1\n",
    "for col in ['ni_ps', 'oancf_ps', 'price_f']:\n",
    "    lb = (df2[col] > df1[col].quantile(0.01))\n",
    "    ub = (df2[col] < df1[col].quantile(0.99))\n",
    "    df2 = df2[lb & ub]\n",
    "    print(df2.shape)"
   ]
  },
  {
   "cell_type": "markdown",
   "metadata": {},
   "source": [
    "**Calculating correlations**"
   ]
  },
  {
   "cell_type": "markdown",
   "metadata": {},
   "source": [
    "- Using the dataset that excludes outliers"
   ]
  },
  {
   "cell_type": "code",
   "execution_count": null,
   "metadata": {
    "scrolled": true
   },
   "outputs": [],
   "source": [
    "df2[['ni_ps', 'oancf_ps', 'price_f']].corr(method = 'pearson')"
   ]
  },
  {
   "cell_type": "markdown",
   "metadata": {},
   "source": [
    "- Using the dataset that doesn't exclude outliers"
   ]
  },
  {
   "cell_type": "code",
   "execution_count": null,
   "metadata": {},
   "outputs": [],
   "source": [
    "df1[['ni_ps', 'oancf_ps', 'price_f']].corr(method = 'pearson')"
   ]
  }
 ],
 "metadata": {
  "kernelspec": {
   "display_name": "Python 3 (ipykernel)",
   "language": "python",
   "name": "python3"
  },
  "language_info": {
   "codemirror_mode": {
    "name": "ipython",
    "version": 3
   },
   "file_extension": ".py",
   "mimetype": "text/x-python",
   "name": "python",
   "nbconvert_exporter": "python",
   "pygments_lexer": "ipython3",
   "version": "3.9.7"
  }
 },
 "nbformat": 4,
 "nbformat_minor": 2
}
