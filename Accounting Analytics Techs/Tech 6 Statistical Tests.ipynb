{
 "cells": [
  {
   "cell_type": "markdown",
   "metadata": {},
   "source": [
    "# Tech #6 Statistical Tests"
   ]
  },
  {
   "cell_type": "markdown",
   "metadata": {},
   "source": [
    "- This file illustrates how to use Python to perform simple statistical tests"
   ]
  },
  {
   "cell_type": "markdown",
   "metadata": {},
   "source": [
    "### Import pandas and scipy packages ###\n",
    "- SciPy (pronounced “Sigh Pie”) is a Python package for mathematics, science, and engineering.\n",
    "- SciPy contains modules for optimization, linear algebra, integration, interpolation, statistical functions, and other tasks common in science and engineering.\n",
    "- In this example, we use the sub-package, *stats*, to get statistical functions."
   ]
  },
  {
   "cell_type": "code",
   "execution_count": null,
   "metadata": {},
   "outputs": [],
   "source": [
    "import pandas as pd\n",
    "import scipy.stats as st"
   ]
  },
  {
   "cell_type": "markdown",
   "metadata": {},
   "source": [
    "## Example: Grades from two classes ##\n",
    "- Each class has 20 students"
   ]
  },
  {
   "cell_type": "code",
   "execution_count": null,
   "metadata": {},
   "outputs": [],
   "source": [
    "df= pd.DataFrame({'class1': [70, 73, 75, 80, 64, 56, 61, 99, 55, 60, 71, 72, 74, 81, 63, 53, 74, 95, 46, 65],\n",
    "                    'class2': [65, 76, 75, 82, 61, 58, 66, 70, 45, 77, 62, 78, 72, 76, 60, 28, 67, 63, 49, 78]})"
   ]
  },
  {
   "cell_type": "markdown",
   "metadata": {},
   "source": [
    "## One-sample *t*-test\n",
    "\n",
    "```Python\n",
    "st.ttest_1samp(data, value)\n",
    "```\n",
    "- This test is used to examine whether the mean of a sample is **significantly/statistically different from a certain value**.\n",
    "- The returning statistics include both *t-*statistic and *p-*value.\n",
    "- The output of interest is the *p-*value. A smaller *p-*value suggests a smaller chance that randomness could explain the difference.\n",
    "- Normally, when the *p-*value is smaller than 0.1 or 10%, we can assess that the sample mean is **significantly** different from the given value."
   ]
  },
  {
   "cell_type": "code",
   "execution_count": null,
   "metadata": {},
   "outputs": [],
   "source": [
    "df['class1']"
   ]
  },
  {
   "cell_type": "code",
   "execution_count": null,
   "metadata": {},
   "outputs": [],
   "source": [
    "df['class1'].mean()"
   ]
  },
  {
   "cell_type": "code",
   "execution_count": null,
   "metadata": {},
   "outputs": [],
   "source": [
    "df['class1'].plot.hist(range=(0,100))"
   ]
  },
  {
   "cell_type": "markdown",
   "metadata": {},
   "source": [
    "**The below example examines whether the average grade of Class 1 is significantly larger than 60.**"
   ]
  },
  {
   "cell_type": "markdown",
   "metadata": {},
   "source": [
    "**Step 1:** Calculate the difference between the sample mean and the given value."
   ]
  },
  {
   "cell_type": "code",
   "execution_count": null,
   "metadata": {},
   "outputs": [],
   "source": [
    "df['class1'].mean() - 60"
   ]
  },
  {
   "cell_type": "markdown",
   "metadata": {},
   "source": [
    "**Step 2:** Examine whether the difference between the sample mean and the given value is significant statistically."
   ]
  },
  {
   "cell_type": "code",
   "execution_count": null,
   "metadata": {},
   "outputs": [],
   "source": [
    "st.ttest_1samp(df['class1'], 60)"
   ]
  },
  {
   "cell_type": "markdown",
   "metadata": {},
   "source": [
    "**Interpretation:** Because (1) the average grade of Class 1 is larger than 60 and (2) the *p*-value of the statistical test on the difference is smaller than 10%, there is a <10% chance the the sample mean and the given value are the same. We can conclude that the average grade of Class 1 is significantly larger than 60."
   ]
  },
  {
   "cell_type": "markdown",
   "metadata": {},
   "source": [
    "**Note:** You can present these two statistics with fewer decimal points using the following code."
   ]
  },
  {
   "cell_type": "code",
   "execution_count": null,
   "metadata": {},
   "outputs": [],
   "source": [
    "t, p = st.ttest_1samp(df['class1'], 60)\n",
    "print(\"ttest_1samp_stats: t = %.3f  p = %.3f\" % (t, p))"
   ]
  },
  {
   "cell_type": "markdown",
   "metadata": {},
   "source": [
    "---\n",
    "## Two-sample *t*-test\n",
    "\n",
    "```Python\n",
    "st.ttest_ind(data, data)\n",
    "```\n",
    "- This test is used to examine whether the mean of one sample is significantly different from the mean of the other sample.\n",
    "- The returning statistics include both *t-*statistic and *p-*value.\n",
    "- The output of interest is the *p-*value. A smaller *p-*value suggests a greater statistical significance.\n",
    "- Normally, when the *p-*value is smaller than 0.1 or 10%, we can assess that the two samples' means are significantly different from each other."
   ]
  },
  {
   "cell_type": "code",
   "execution_count": null,
   "metadata": {},
   "outputs": [],
   "source": [
    "df['class1'].mean()"
   ]
  },
  {
   "cell_type": "code",
   "execution_count": null,
   "metadata": {},
   "outputs": [],
   "source": [
    "df['class2'].mean()"
   ]
  },
  {
   "cell_type": "code",
   "execution_count": null,
   "metadata": {},
   "outputs": [],
   "source": [
    "df['class1'].plot.hist(range=(0,100))"
   ]
  },
  {
   "cell_type": "code",
   "execution_count": null,
   "metadata": {},
   "outputs": [],
   "source": [
    "df['class2'].plot.hist(range=(0,100))"
   ]
  },
  {
   "cell_type": "code",
   "execution_count": null,
   "metadata": {},
   "outputs": [],
   "source": [
    "df[['class1','class2']].plot.hist(range=(0,100), alpha=0.3)\n",
    "#The parameter alpha is to set transparency to 30%."
   ]
  },
  {
   "cell_type": "markdown",
   "metadata": {},
   "source": [
    "**The below example examines whether the average grade of Class 1 is significantly larger than the average grade of Class 2.**"
   ]
  },
  {
   "cell_type": "markdown",
   "metadata": {},
   "source": [
    "**Step 1:** Calculate the difference between the two sample means."
   ]
  },
  {
   "cell_type": "code",
   "execution_count": null,
   "metadata": {},
   "outputs": [],
   "source": [
    "df['class1'].mean() - df['class2'].mean()"
   ]
  },
  {
   "cell_type": "markdown",
   "metadata": {},
   "source": [
    "**Step 2:** Examine whether the difference between the two sample means is significant statistically."
   ]
  },
  {
   "cell_type": "code",
   "execution_count": null,
   "metadata": {},
   "outputs": [],
   "source": [
    "st.ttest_ind(df['class1'], df['class2'])"
   ]
  },
  {
   "cell_type": "markdown",
   "metadata": {},
   "source": [
    "**Interpretation:** Even though the average grade of Class 1 is larger that of Class 2, the *p*-value of the statistical test on the difference is 0.35, greater than 10%. So we can not conclude that the average grade of Class 1 is significantly larger than that of Class 2."
   ]
  },
  {
   "cell_type": "markdown",
   "metadata": {},
   "source": [
    "*Additional Note: Both tests presented through this file are two-tailed tests, which are generally stricter than one-tailed tests. If you are interested in the difference between one- and two-tailed tests, you can refer to your statistics book or online resources.*"
   ]
  }
 ],
 "metadata": {
  "kernelspec": {
   "display_name": "Python 3 (ipykernel)",
   "language": "python",
   "name": "python3"
  },
  "language_info": {
   "codemirror_mode": {
    "name": "ipython",
    "version": 3
   },
   "file_extension": ".py",
   "mimetype": "text/x-python",
   "name": "python",
   "nbconvert_exporter": "python",
   "pygments_lexer": "ipython3",
   "version": "3.9.7"
  }
 },
 "nbformat": 4,
 "nbformat_minor": 2
}
