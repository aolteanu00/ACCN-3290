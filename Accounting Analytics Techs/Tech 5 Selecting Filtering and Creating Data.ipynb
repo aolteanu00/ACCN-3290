{
 "cells": [
  {
   "cell_type": "markdown",
   "metadata": {},
   "source": [
    "# Tech #5 Selecting, Filtering, and Creating Data"
   ]
  },
  {
   "cell_type": "markdown",
   "metadata": {},
   "source": [
    "- This file illustrates how to select, filter, and create data."
   ]
  },
  {
   "cell_type": "markdown",
   "metadata": {},
   "source": [
    "**Import pandas package**"
   ]
  },
  {
   "cell_type": "code",
   "execution_count": null,
   "metadata": {},
   "outputs": [],
   "source": [
    "import pandas as pd"
   ]
  },
  {
   "cell_type": "markdown",
   "metadata": {},
   "source": [
    "**Load the dataset**"
   ]
  },
  {
   "cell_type": "code",
   "execution_count": null,
   "metadata": {},
   "outputs": [],
   "source": [
    "df19 = pd.read_csv('Compustat_fy2019.csv', parse_dates = ['datadate'])"
   ]
  },
  {
   "cell_type": "markdown",
   "metadata": {},
   "source": [
    "**Navigate the dataset**"
   ]
  },
  {
   "cell_type": "code",
   "execution_count": null,
   "metadata": {},
   "outputs": [],
   "source": [
    "df19.head()"
   ]
  },
  {
   "cell_type": "markdown",
   "metadata": {},
   "source": [
    "---\n",
    "## Selecting Data"
   ]
  },
  {
   "cell_type": "markdown",
   "metadata": {},
   "source": [
    "### Selecting one variable (column)\n",
    "```Python\n",
    "df19['at']\n",
    "```\n",
    "- Specify the variable name with quotes around it in the brackets."
   ]
  },
  {
   "cell_type": "code",
   "execution_count": null,
   "metadata": {},
   "outputs": [],
   "source": []
  },
  {
   "cell_type": "markdown",
   "metadata": {},
   "source": [
    "### Selecting multiple variables (columns)\n",
    "```Python\n",
    "df19[['conm','at']]\n",
    "```\n",
    "- Specify a list of variable names (using brackets) in the brackets."
   ]
  },
  {
   "cell_type": "code",
   "execution_count": null,
   "metadata": {},
   "outputs": [],
   "source": []
  },
  {
   "cell_type": "markdown",
   "metadata": {},
   "source": [
    "**Note: These steps are executed only to give you the results temporarily. They are not performed on the df19 dataset at all.**\n",
    "If you want to save what you select as a new dataset, you should assign it a new reference as the following code shows.\n",
    "```Python\n",
    "df19_1 = df19[['conm','at']]\n",
    "```"
   ]
  },
  {
   "cell_type": "code",
   "execution_count": null,
   "metadata": {},
   "outputs": [],
   "source": []
  },
  {
   "cell_type": "code",
   "execution_count": null,
   "metadata": {},
   "outputs": [],
   "source": []
  },
  {
   "cell_type": "markdown",
   "metadata": {},
   "source": [
    "### Selecting observations (rows)\n",
    "```Python\n",
    "df19[0:10]\n",
    "```\n",
    "- Selecting from the first observation to the tenth observation.\n",
    "- `df[a:b]` will give you observations with index between a and **b-1**.\n",
    "- If you don't specify the number, the default is either zero in position `a` or the largest index in postion `b`. So `df[0:10]` is equivalent to `df[:10]`."
   ]
  },
  {
   "cell_type": "code",
   "execution_count": null,
   "metadata": {},
   "outputs": [],
   "source": []
  },
  {
   "cell_type": "markdown",
   "metadata": {},
   "source": [
    "### Selecting both observations and variables at the same time\n",
    "```Python\n",
    "df19[0:10][['conm','at']]\n",
    "```"
   ]
  },
  {
   "cell_type": "code",
   "execution_count": null,
   "metadata": {},
   "outputs": [],
   "source": []
  },
  {
   "cell_type": "markdown",
   "metadata": {},
   "source": [
    "---\n",
    "## Filtering Data"
   ]
  },
  {
   "cell_type": "markdown",
   "metadata": {},
   "source": [
    "### Filtering data on one condition\n",
    "```Python\n",
    "df19[df19['exchg']==14]\n",
    "```\n",
    "- Selecting companies that are listed in NASDAQ by specifying the corresponding condition (i.e., `df['exchg']==14`) in the brackets.\n",
    "- Python comparison operators\n",
    "    - Equal (==)\n",
    "    - Not equal (!= or <>)\n",
    "    - Greater (>)\n",
    "    - Greater or equal (>=)\n",
    "    - Smaller (<)\n",
    "    - Smaller or equal (<=)"
   ]
  },
  {
   "cell_type": "code",
   "execution_count": null,
   "metadata": {},
   "outputs": [],
   "source": []
  },
  {
   "cell_type": "markdown",
   "metadata": {},
   "source": [
    "### Filtering data on multiple conditions\n",
    "```Python\n",
    "df19[(df19['exchg']==14) & (df19['at']>=5000)]\n",
    "```\n",
    "- Selecting companies that are listed in NASDAQ and have at least 5 billion total equities.\n",
    "- You need to put parentheses around each condition, and then connect these conditions with bitwise operators. \n",
    "- Python bitwise operators\n",
    "    - And (&)\n",
    "    - Or ( | )"
   ]
  },
  {
   "cell_type": "code",
   "execution_count": null,
   "metadata": {},
   "outputs": [],
   "source": []
  },
  {
   "cell_type": "markdown",
   "metadata": {},
   "source": [
    "- You can also write a new code to specify the condition separately and then refer to it in the function\n",
    "```Python\n",
    "condition = (df19['exchg']==14) & (df19['at']>=5000)\n",
    "df19[condition]\n",
    "```\n"
   ]
  },
  {
   "cell_type": "code",
   "execution_count": null,
   "metadata": {},
   "outputs": [],
   "source": []
  },
  {
   "cell_type": "markdown",
   "metadata": {},
   "source": [
    "---\n",
    "## Creating Data"
   ]
  },
  {
   "cell_type": "markdown",
   "metadata": {},
   "source": [
    "### Creating a new variable\n",
    "```Python\n",
    "df19['roa'] = df19['ni'] / df19['at']\n",
    "```\n",
    "- Creating a new variable called roa by dividing net incomes with total assets."
   ]
  },
  {
   "cell_type": "code",
   "execution_count": null,
   "metadata": {},
   "outputs": [],
   "source": []
  },
  {
   "cell_type": "markdown",
   "metadata": {},
   "source": [
    "---\n",
    "## Python group project due on Friday 2/11 @ 8AM\n",
    "Please create a **new Jupyter Notebook file** and then perform the following analyses using Python code and the **2018** compustat file. For every question, please write down the code and execute them to get results. Please also **explain your findings by using \"commenting\" or by creating a Markdown cells right after the returning results** (you can read the tips below on how to create markdown cells).\n",
    "\n",
    "After you finish the analyses, please **make sure every cell is executed and all the returning results are presented**. Then you can save the file and submit it to Canvas. **Each group only has to submit one file but everyone should make sure they are able to write and run the code.**\n",
    "- Describe the dataset, *Compustat_fy2018.csv*\n",
    "    - How many observations are there?\n",
    "    - How many variables are there? What are those variables?\n",
    "- Find out the SIC industry code for General Motors Co. (tic == 'GM')\n",
    "- Did GM outperform its industry **average** in fiscal year 2018 on the following two measures?\n",
    "    - ROE (net income /  total equity)\n",
    "    - Asset turnover ratio (revenue / total assets)"
   ]
  },
  {
   "cell_type": "markdown",
   "metadata": {},
   "source": [
    "### Tips: \n",
    "### How to create and write in Markdown cells\n",
    "- Create a new cell by clicking on the plus icon in the menu (second icon next to the \"save\" one).\n",
    "- Select \"Markdown\" instead of \"Code\" in the drop-down menu next to the last icon (a small keyboard).\n",
    "- You can type any of your explanatory texts in the markdown cells. After you finish typing, you can run the cell to have the texts presented.\n",
    "- Markdown is a lightweight coding language that you can use to create rich texts with different formats and sizes. If you want to know the basic language structure, you can go to this [website](https://commonmark.org/help/).\n",
    "\n",
    "### Command keyboard shortcuts\n",
    "- There are keyboard shortcuts for major commands, such as creating a new cell, entering the edit mode, and running the cell. You can check those shortcuts by clicking on the small keyboard icon on the far right of the menu."
   ]
  }
 ],
 "metadata": {
  "kernelspec": {
   "display_name": "Python 3 (ipykernel)",
   "language": "python",
   "name": "python3"
  },
  "language_info": {
   "codemirror_mode": {
    "name": "ipython",
    "version": 3
   },
   "file_extension": ".py",
   "mimetype": "text/x-python",
   "name": "python",
   "nbconvert_exporter": "python",
   "pygments_lexer": "ipython3",
   "version": "3.9.7"
  }
 },
 "nbformat": 4,
 "nbformat_minor": 2
}
