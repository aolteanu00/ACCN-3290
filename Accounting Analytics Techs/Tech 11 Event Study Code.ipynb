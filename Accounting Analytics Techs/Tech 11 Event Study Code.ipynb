{
 "cells": [
  {
   "cell_type": "markdown",
   "metadata": {},
   "source": [
    "# Event Study in Python\n",
    "- This program contains the codes that can be used in drawing the event study graph.\n",
    "- The dataset, *Crsp_2010_2020.csv*, includes the return data for firms between 2010 and 2020. \n",
    "- The dataset, *Event.csv*, provides the template for the event input. Permno is a firm identifier for stock return data. Event_date should be formated as \"Month/Day/Year\".\n",
    "- **Your task** is to understand the coding procedures and then answer the question listed below (Questions 1-4)."
   ]
  },
  {
   "cell_type": "markdown",
   "metadata": {},
   "source": [
    "### Part A: Clean Data"
   ]
  },
  {
   "cell_type": "markdown",
   "metadata": {},
   "source": [
    "**Loading pandas and dataset**"
   ]
  },
  {
   "cell_type": "code",
   "execution_count": null,
   "metadata": {},
   "outputs": [],
   "source": [
    "import pandas as pd\n",
    "import matplotlib.pyplot as plt #Package for drawing pictures\n",
    "pd.options.mode.chained_assignment = None #Set off some pandas outputs"
   ]
  },
  {
   "cell_type": "code",
   "execution_count": null,
   "metadata": {},
   "outputs": [],
   "source": [
    "#Import event data\n",
    "event = pd.read_csv('Events.csv',parse_dates = ['event_date'])\n",
    "event"
   ]
  },
  {
   "cell_type": "code",
   "execution_count": null,
   "metadata": {},
   "outputs": [],
   "source": [
    "#Duplicates check\n",
    "event=event.drop_duplicates()\n",
    "event"
   ]
  },
  {
   "cell_type": "markdown",
   "metadata": {},
   "source": [
    "#### Question 1: How many unique events do we have in Event?"
   ]
  },
  {
   "cell_type": "markdown",
   "metadata": {},
   "source": [
    "Your Answers:"
   ]
  },
  {
   "cell_type": "code",
   "execution_count": null,
   "metadata": {},
   "outputs": [],
   "source": [
    "#Import stock price data\n",
    "stockprice = pd.read_csv('Crsp_2010_2020.csv',parse_dates = ['date','calendar_day'])"
   ]
  },
  {
   "cell_type": "markdown",
   "metadata": {},
   "source": [
    "- permno: security identifier\n",
    "- date: trading calendar day\n",
    "- calendar_day: trading calendar day\n",
    "- trading_day: trading day index\n",
    "- abnormal_ret: raw return adjusted for delisting return and market return"
   ]
  },
  {
   "cell_type": "markdown",
   "metadata": {},
   "source": [
    "**Preprocess dataset before merging**"
   ]
  },
  {
   "cell_type": "code",
   "execution_count": null,
   "metadata": {},
   "outputs": [],
   "source": [
    "#Filter Event Firms' Stock Price\n",
    "relatedsp=pd.merge(event, stockprice, how = 'left', on = 'permno')[['permno', 'date', 'abnormal_ret','calendar_day','trading_day']]"
   ]
  },
  {
   "cell_type": "code",
   "execution_count": null,
   "metadata": {},
   "outputs": [],
   "source": [
    "#Duplicate Repetitive Merge\n",
    "relatedsp=relatedsp.drop_duplicates()"
   ]
  },
  {
   "cell_type": "code",
   "execution_count": null,
   "metadata": {
    "scrolled": true
   },
   "outputs": [],
   "source": [
    "#Reset Index for Loop\n",
    "event=event.reset_index(drop=True)\n",
    "relatedsp=relatedsp.reset_index(drop=True)"
   ]
  },
  {
   "cell_type": "markdown",
   "metadata": {},
   "source": [
    "**Merge each event to the closest trading day**"
   ]
  },
  {
   "cell_type": "code",
   "execution_count": null,
   "metadata": {
    "scrolled": false
   },
   "outputs": [],
   "source": [
    "#This code is to loop over each event and match each event with the cloest trading day within [0,+7].\n",
    "event_trade_date = pd.DataFrame()\n",
    "for r in range(0,len(event)):\n",
    "    #Select event related price\n",
    "    relatedsp_temp=relatedsp[relatedsp['permno']==event.loc[r,\"permno\"]] \n",
    "    #Assign event date to a seperate variable\n",
    "    relatedsp_temp['event_date']=event.loc[r,'event_date'] \n",
    "    #Use the calendar_day minus event day\n",
    "    relatedsp_temp['relative_day']=(relatedsp_temp['calendar_day']-relatedsp_temp['event_date']).dt.days \n",
    "    #Select match within [0,+7]\n",
    "    relatedsp_temp=relatedsp_temp[(relatedsp_temp['relative_day']>=0)&(relatedsp_temp['relative_day']<=7)]\n",
    "    #Sort and filter the trading day with minimum day difference\n",
    "    relatedsp_temp=relatedsp_temp.sort_values(by = 'relative_day', ascending = True)\n",
    "    temp=relatedsp_temp.head(1)[['permno', 'event_date', 'trading_day']]\n",
    "    event_trade_date = event_trade_date.append(temp.head(1), ignore_index = True)\n",
    "    \n",
    "print(\"Number of Matched with CRSP:\",len(event_trade_date))\n",
    "event_trade_date.rename(columns={'trading_day':'event_trading_day'}, inplace=True)\n",
    "print(event_trade_date)"
   ]
  },
  {
   "cell_type": "markdown",
   "metadata": {},
   "source": [
    "#### Question 2: How many unique events are in event_trade_date? Why is it smaller than your answers in Question 1?"
   ]
  },
  {
   "cell_type": "markdown",
   "metadata": {},
   "source": [
    "Your Answers:"
   ]
  },
  {
   "cell_type": "markdown",
   "metadata": {},
   "source": [
    "**Collect event window [-5,10] trading data**"
   ]
  },
  {
   "cell_type": "code",
   "execution_count": null,
   "metadata": {
    "scrolled": true
   },
   "outputs": [],
   "source": [
    "#This code is to assign the 16 trading days around the event date, and transform each trading day to an event day.\n",
    "\n",
    "#Merge the event with event_trading_day to price dataset \n",
    "event_price=pd.merge(event_trade_date, relatedsp, how = 'left', on = ['permno'])\n",
    "#Calculate the trading day difference\n",
    "event_price['event_day']=event_price['trading_day']-event_price['event_trading_day']\n",
    "#Filter by graph window [-5,+10]\n",
    "event_price=event_price[(event_price['event_day']<=10) & (event_price['event_day']>=-5)]\n",
    "#Sort variable\n",
    "event_price=event_price.sort_values(by = ['permno','event_date','event_day'], ascending = True)\n",
    "event_price=event_price[['permno', 'event_date', 'calendar_day','trading_day','event_day','abnormal_ret']]\n",
    "event_price.head(16)"
   ]
  },
  {
   "cell_type": "markdown",
   "metadata": {},
   "source": [
    "**Delete events without sufficient trading data**"
   ]
  },
  {
   "cell_type": "code",
   "execution_count": null,
   "metadata": {},
   "outputs": [],
   "source": [
    "event_price = event_price[event_price.groupby(['permno','event_date']).event_day.transform(len) >=14]\n",
    "event_price.shape"
   ]
  },
  {
   "cell_type": "markdown",
   "metadata": {},
   "source": [
    "#### Question 3: Could you explain what does \"event_price.groupby(['permno','event_date']).relative_trading_day.transform(len) >=14\" do?"
   ]
  },
  {
   "cell_type": "markdown",
   "metadata": {},
   "source": [
    "Your Answers:"
   ]
  },
  {
   "cell_type": "markdown",
   "metadata": {},
   "source": [
    "**Generate cumulative return**"
   ]
  },
  {
   "cell_type": "code",
   "execution_count": null,
   "metadata": {},
   "outputs": [],
   "source": [
    "event_price['car'] = event_price.groupby(['permno','event_date'])['abnormal_ret'].apply(lambda x: x.cumsum())\n",
    "event_price.head(16)"
   ]
  },
  {
   "cell_type": "markdown",
   "metadata": {},
   "source": [
    "### Part B: Event Study Graph"
   ]
  },
  {
   "cell_type": "markdown",
   "metadata": {},
   "source": [
    "**Draw event study graph**"
   ]
  },
  {
   "cell_type": "code",
   "execution_count": null,
   "metadata": {},
   "outputs": [],
   "source": [
    "mean_ar=event_price.groupby('event_day')['car'].mean()\n",
    "plt.plot(mean_ar)"
   ]
  },
  {
   "cell_type": "markdown",
   "metadata": {},
   "source": [
    "#### Question 4: How do you interpret the graph?"
   ]
  },
  {
   "cell_type": "markdown",
   "metadata": {},
   "source": [
    "Your Answers:"
   ]
  }
 ],
 "metadata": {
  "kernelspec": {
   "display_name": "Python 3 (ipykernel)",
   "language": "python",
   "name": "python3"
  },
  "language_info": {
   "codemirror_mode": {
    "name": "ipython",
    "version": 3
   },
   "file_extension": ".py",
   "mimetype": "text/x-python",
   "name": "python",
   "nbconvert_exporter": "python",
   "pygments_lexer": "ipython3",
   "version": "3.9.7"
  }
 },
 "nbformat": 4,
 "nbformat_minor": 2
}
